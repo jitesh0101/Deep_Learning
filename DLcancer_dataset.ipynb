{
  "nbformat": 4,
  "nbformat_minor": 0,
  "metadata": {
    "colab": {
      "provenance": []
    },
    "kernelspec": {
      "name": "python3",
      "display_name": "Python 3"
    },
    "language_info": {
      "name": "python"
    }
  },
  "cells": [
    {
      "cell_type": "code",
      "execution_count": null,
      "metadata": {
        "id": "xseNopCCNnDS"
      },
      "outputs": [],
      "source": [
        "import numpy as np\n",
        "import pandas as pd\n",
        "import matplotlib.pyplot as plt\n",
        "import seaborn as sns\n",
        "import warnings\n",
        "warnings.filterwarnings(\"ignore\")"
      ]
    },
    {
      "cell_type": "code",
      "source": [
        "import tensorflow as tf\n",
        "from tensorflow.keras import Sequential\n",
        "from tensorflow.keras.layers import Dense \n",
        "from sklearn.metrics import classification_report "
      ],
      "metadata": {
        "id": "191rJHwRN5Xj"
      },
      "execution_count": null,
      "outputs": []
    },
    {
      "cell_type": "code",
      "source": [
        "df=pd.read_excel(\"cancer_classification.xlsx\")\n",
        "df.head()"
      ],
      "metadata": {
        "colab": {
          "base_uri": "https://localhost:8080/",
          "height": 334
        },
        "id": "h4TpbtwzN7jy",
        "outputId": "c4053a35-4431-4e47-c804-7cb23ce01c91"
      },
      "execution_count": null,
      "outputs": [
        {
          "output_type": "execute_result",
          "data": {
            "text/plain": [
              "   mean radius  mean texture  mean perimeter  mean area  mean smoothness  \\\n",
              "0        17.99         10.38          122.80     1001.0          0.11840   \n",
              "1        20.57         17.77          132.90     1326.0          0.08474   \n",
              "2        19.69         21.25          130.00     1203.0          0.10960   \n",
              "3        11.42         20.38           77.58      386.1          0.14250   \n",
              "4        20.29         14.34          135.10     1297.0          0.10030   \n",
              "\n",
              "   mean compactness  mean concavity  mean concave points  mean symmetry  \\\n",
              "0           0.27760          0.3001              0.14710         0.2419   \n",
              "1           0.07864          0.0869              0.07017         0.1812   \n",
              "2           0.15990          0.1974              0.12790         0.2069   \n",
              "3           0.28390          0.2414              0.10520         0.2597   \n",
              "4           0.13280          0.1980              0.10430         0.1809   \n",
              "\n",
              "   mean fractal dimension  ...  worst texture  worst perimeter  worst area  \\\n",
              "0                 0.07871  ...          17.33           184.60      2019.0   \n",
              "1                 0.05667  ...          23.41           158.80      1956.0   \n",
              "2                 0.05999  ...          25.53           152.50      1709.0   \n",
              "3                 0.09744  ...          26.50            98.87       567.7   \n",
              "4                 0.05883  ...          16.67           152.20      1575.0   \n",
              "\n",
              "   worst smoothness  worst compactness  worst concavity  worst concave points  \\\n",
              "0            0.1622             0.6656           0.7119                0.2654   \n",
              "1            0.1238             0.1866           0.2416                0.1860   \n",
              "2            0.1444             0.4245           0.4504                0.2430   \n",
              "3            0.2098             0.8663           0.6869                0.2575   \n",
              "4            0.1374             0.2050           0.4000                0.1625   \n",
              "\n",
              "   worst symmetry  worst fractal dimension  target  \n",
              "0          0.4601                  0.11890     0.0  \n",
              "1          0.2750                  0.08902     0.0  \n",
              "2          0.3613                  0.08758     0.0  \n",
              "3          0.6638                  0.17300     0.0  \n",
              "4          0.2364                  0.07678     0.0  \n",
              "\n",
              "[5 rows x 31 columns]"
            ],
            "text/html": [
              "\n",
              "  <div id=\"df-fdbbdb3b-92f6-47c5-9cd5-ba7688d856d3\">\n",
              "    <div class=\"colab-df-container\">\n",
              "      <div>\n",
              "<style scoped>\n",
              "    .dataframe tbody tr th:only-of-type {\n",
              "        vertical-align: middle;\n",
              "    }\n",
              "\n",
              "    .dataframe tbody tr th {\n",
              "        vertical-align: top;\n",
              "    }\n",
              "\n",
              "    .dataframe thead th {\n",
              "        text-align: right;\n",
              "    }\n",
              "</style>\n",
              "<table border=\"1\" class=\"dataframe\">\n",
              "  <thead>\n",
              "    <tr style=\"text-align: right;\">\n",
              "      <th></th>\n",
              "      <th>mean radius</th>\n",
              "      <th>mean texture</th>\n",
              "      <th>mean perimeter</th>\n",
              "      <th>mean area</th>\n",
              "      <th>mean smoothness</th>\n",
              "      <th>mean compactness</th>\n",
              "      <th>mean concavity</th>\n",
              "      <th>mean concave points</th>\n",
              "      <th>mean symmetry</th>\n",
              "      <th>mean fractal dimension</th>\n",
              "      <th>...</th>\n",
              "      <th>worst texture</th>\n",
              "      <th>worst perimeter</th>\n",
              "      <th>worst area</th>\n",
              "      <th>worst smoothness</th>\n",
              "      <th>worst compactness</th>\n",
              "      <th>worst concavity</th>\n",
              "      <th>worst concave points</th>\n",
              "      <th>worst symmetry</th>\n",
              "      <th>worst fractal dimension</th>\n",
              "      <th>target</th>\n",
              "    </tr>\n",
              "  </thead>\n",
              "  <tbody>\n",
              "    <tr>\n",
              "      <th>0</th>\n",
              "      <td>17.99</td>\n",
              "      <td>10.38</td>\n",
              "      <td>122.80</td>\n",
              "      <td>1001.0</td>\n",
              "      <td>0.11840</td>\n",
              "      <td>0.27760</td>\n",
              "      <td>0.3001</td>\n",
              "      <td>0.14710</td>\n",
              "      <td>0.2419</td>\n",
              "      <td>0.07871</td>\n",
              "      <td>...</td>\n",
              "      <td>17.33</td>\n",
              "      <td>184.60</td>\n",
              "      <td>2019.0</td>\n",
              "      <td>0.1622</td>\n",
              "      <td>0.6656</td>\n",
              "      <td>0.7119</td>\n",
              "      <td>0.2654</td>\n",
              "      <td>0.4601</td>\n",
              "      <td>0.11890</td>\n",
              "      <td>0.0</td>\n",
              "    </tr>\n",
              "    <tr>\n",
              "      <th>1</th>\n",
              "      <td>20.57</td>\n",
              "      <td>17.77</td>\n",
              "      <td>132.90</td>\n",
              "      <td>1326.0</td>\n",
              "      <td>0.08474</td>\n",
              "      <td>0.07864</td>\n",
              "      <td>0.0869</td>\n",
              "      <td>0.07017</td>\n",
              "      <td>0.1812</td>\n",
              "      <td>0.05667</td>\n",
              "      <td>...</td>\n",
              "      <td>23.41</td>\n",
              "      <td>158.80</td>\n",
              "      <td>1956.0</td>\n",
              "      <td>0.1238</td>\n",
              "      <td>0.1866</td>\n",
              "      <td>0.2416</td>\n",
              "      <td>0.1860</td>\n",
              "      <td>0.2750</td>\n",
              "      <td>0.08902</td>\n",
              "      <td>0.0</td>\n",
              "    </tr>\n",
              "    <tr>\n",
              "      <th>2</th>\n",
              "      <td>19.69</td>\n",
              "      <td>21.25</td>\n",
              "      <td>130.00</td>\n",
              "      <td>1203.0</td>\n",
              "      <td>0.10960</td>\n",
              "      <td>0.15990</td>\n",
              "      <td>0.1974</td>\n",
              "      <td>0.12790</td>\n",
              "      <td>0.2069</td>\n",
              "      <td>0.05999</td>\n",
              "      <td>...</td>\n",
              "      <td>25.53</td>\n",
              "      <td>152.50</td>\n",
              "      <td>1709.0</td>\n",
              "      <td>0.1444</td>\n",
              "      <td>0.4245</td>\n",
              "      <td>0.4504</td>\n",
              "      <td>0.2430</td>\n",
              "      <td>0.3613</td>\n",
              "      <td>0.08758</td>\n",
              "      <td>0.0</td>\n",
              "    </tr>\n",
              "    <tr>\n",
              "      <th>3</th>\n",
              "      <td>11.42</td>\n",
              "      <td>20.38</td>\n",
              "      <td>77.58</td>\n",
              "      <td>386.1</td>\n",
              "      <td>0.14250</td>\n",
              "      <td>0.28390</td>\n",
              "      <td>0.2414</td>\n",
              "      <td>0.10520</td>\n",
              "      <td>0.2597</td>\n",
              "      <td>0.09744</td>\n",
              "      <td>...</td>\n",
              "      <td>26.50</td>\n",
              "      <td>98.87</td>\n",
              "      <td>567.7</td>\n",
              "      <td>0.2098</td>\n",
              "      <td>0.8663</td>\n",
              "      <td>0.6869</td>\n",
              "      <td>0.2575</td>\n",
              "      <td>0.6638</td>\n",
              "      <td>0.17300</td>\n",
              "      <td>0.0</td>\n",
              "    </tr>\n",
              "    <tr>\n",
              "      <th>4</th>\n",
              "      <td>20.29</td>\n",
              "      <td>14.34</td>\n",
              "      <td>135.10</td>\n",
              "      <td>1297.0</td>\n",
              "      <td>0.10030</td>\n",
              "      <td>0.13280</td>\n",
              "      <td>0.1980</td>\n",
              "      <td>0.10430</td>\n",
              "      <td>0.1809</td>\n",
              "      <td>0.05883</td>\n",
              "      <td>...</td>\n",
              "      <td>16.67</td>\n",
              "      <td>152.20</td>\n",
              "      <td>1575.0</td>\n",
              "      <td>0.1374</td>\n",
              "      <td>0.2050</td>\n",
              "      <td>0.4000</td>\n",
              "      <td>0.1625</td>\n",
              "      <td>0.2364</td>\n",
              "      <td>0.07678</td>\n",
              "      <td>0.0</td>\n",
              "    </tr>\n",
              "  </tbody>\n",
              "</table>\n",
              "<p>5 rows × 31 columns</p>\n",
              "</div>\n",
              "      <button class=\"colab-df-convert\" onclick=\"convertToInteractive('df-fdbbdb3b-92f6-47c5-9cd5-ba7688d856d3')\"\n",
              "              title=\"Convert this dataframe to an interactive table.\"\n",
              "              style=\"display:none;\">\n",
              "        \n",
              "  <svg xmlns=\"http://www.w3.org/2000/svg\" height=\"24px\"viewBox=\"0 0 24 24\"\n",
              "       width=\"24px\">\n",
              "    <path d=\"M0 0h24v24H0V0z\" fill=\"none\"/>\n",
              "    <path d=\"M18.56 5.44l.94 2.06.94-2.06 2.06-.94-2.06-.94-.94-2.06-.94 2.06-2.06.94zm-11 1L8.5 8.5l.94-2.06 2.06-.94-2.06-.94L8.5 2.5l-.94 2.06-2.06.94zm10 10l.94 2.06.94-2.06 2.06-.94-2.06-.94-.94-2.06-.94 2.06-2.06.94z\"/><path d=\"M17.41 7.96l-1.37-1.37c-.4-.4-.92-.59-1.43-.59-.52 0-1.04.2-1.43.59L10.3 9.45l-7.72 7.72c-.78.78-.78 2.05 0 2.83L4 21.41c.39.39.9.59 1.41.59.51 0 1.02-.2 1.41-.59l7.78-7.78 2.81-2.81c.8-.78.8-2.07 0-2.86zM5.41 20L4 18.59l7.72-7.72 1.47 1.35L5.41 20z\"/>\n",
              "  </svg>\n",
              "      </button>\n",
              "      \n",
              "  <style>\n",
              "    .colab-df-container {\n",
              "      display:flex;\n",
              "      flex-wrap:wrap;\n",
              "      gap: 12px;\n",
              "    }\n",
              "\n",
              "    .colab-df-convert {\n",
              "      background-color: #E8F0FE;\n",
              "      border: none;\n",
              "      border-radius: 50%;\n",
              "      cursor: pointer;\n",
              "      display: none;\n",
              "      fill: #1967D2;\n",
              "      height: 32px;\n",
              "      padding: 0 0 0 0;\n",
              "      width: 32px;\n",
              "    }\n",
              "\n",
              "    .colab-df-convert:hover {\n",
              "      background-color: #E2EBFA;\n",
              "      box-shadow: 0px 1px 2px rgba(60, 64, 67, 0.3), 0px 1px 3px 1px rgba(60, 64, 67, 0.15);\n",
              "      fill: #174EA6;\n",
              "    }\n",
              "\n",
              "    [theme=dark] .colab-df-convert {\n",
              "      background-color: #3B4455;\n",
              "      fill: #D2E3FC;\n",
              "    }\n",
              "\n",
              "    [theme=dark] .colab-df-convert:hover {\n",
              "      background-color: #434B5C;\n",
              "      box-shadow: 0px 1px 3px 1px rgba(0, 0, 0, 0.15);\n",
              "      filter: drop-shadow(0px 1px 2px rgba(0, 0, 0, 0.3));\n",
              "      fill: #FFFFFF;\n",
              "    }\n",
              "  </style>\n",
              "\n",
              "      <script>\n",
              "        const buttonEl =\n",
              "          document.querySelector('#df-fdbbdb3b-92f6-47c5-9cd5-ba7688d856d3 button.colab-df-convert');\n",
              "        buttonEl.style.display =\n",
              "          google.colab.kernel.accessAllowed ? 'block' : 'none';\n",
              "\n",
              "        async function convertToInteractive(key) {\n",
              "          const element = document.querySelector('#df-fdbbdb3b-92f6-47c5-9cd5-ba7688d856d3');\n",
              "          const dataTable =\n",
              "            await google.colab.kernel.invokeFunction('convertToInteractive',\n",
              "                                                     [key], {});\n",
              "          if (!dataTable) return;\n",
              "\n",
              "          const docLinkHtml = 'Like what you see? Visit the ' +\n",
              "            '<a target=\"_blank\" href=https://colab.research.google.com/notebooks/data_table.ipynb>data table notebook</a>'\n",
              "            + ' to learn more about interactive tables.';\n",
              "          element.innerHTML = '';\n",
              "          dataTable['output_type'] = 'display_data';\n",
              "          await google.colab.output.renderOutput(dataTable, element);\n",
              "          const docLink = document.createElement('div');\n",
              "          docLink.innerHTML = docLinkHtml;\n",
              "          element.appendChild(docLink);\n",
              "        }\n",
              "      </script>\n",
              "    </div>\n",
              "  </div>\n",
              "  "
            ]
          },
          "metadata": {},
          "execution_count": 3
        }
      ]
    },
    {
      "cell_type": "code",
      "source": [
        "df.info()"
      ],
      "metadata": {
        "colab": {
          "base_uri": "https://localhost:8080/"
        },
        "id": "KS0Asu1mOFwB",
        "outputId": "b3fa62c4-7b47-4e7d-bff0-ca59b10d0337"
      },
      "execution_count": null,
      "outputs": [
        {
          "output_type": "stream",
          "name": "stdout",
          "text": [
            "<class 'pandas.core.frame.DataFrame'>\n",
            "RangeIndex: 569 entries, 0 to 568\n",
            "Data columns (total 31 columns):\n",
            " #   Column                   Non-Null Count  Dtype  \n",
            "---  ------                   --------------  -----  \n",
            " 0   mean radius              569 non-null    float64\n",
            " 1   mean texture             569 non-null    float64\n",
            " 2   mean perimeter           569 non-null    float64\n",
            " 3   mean area                569 non-null    float64\n",
            " 4   mean smoothness          569 non-null    float64\n",
            " 5   mean compactness         569 non-null    float64\n",
            " 6   mean concavity           569 non-null    float64\n",
            " 7   mean concave points      569 non-null    float64\n",
            " 8   mean symmetry            569 non-null    float64\n",
            " 9   mean fractal dimension   569 non-null    float64\n",
            " 10  radius error             569 non-null    float64\n",
            " 11  texture error            569 non-null    float64\n",
            " 12  perimeter error          569 non-null    float64\n",
            " 13  area error               569 non-null    float64\n",
            " 14  smoothness error         569 non-null    float64\n",
            " 15  compactness error        569 non-null    float64\n",
            " 16  concavity error          569 non-null    float64\n",
            " 17  concave points error     569 non-null    float64\n",
            " 18  symmetry error           569 non-null    float64\n",
            " 19  fractal dimension error  569 non-null    float64\n",
            " 20  worst radius             569 non-null    float64\n",
            " 21  worst texture            569 non-null    float64\n",
            " 22  worst perimeter          569 non-null    float64\n",
            " 23  worst area               569 non-null    float64\n",
            " 24  worst smoothness         569 non-null    float64\n",
            " 25  worst compactness        569 non-null    float64\n",
            " 26  worst concavity          569 non-null    float64\n",
            " 27  worst concave points     569 non-null    float64\n",
            " 28  worst symmetry           569 non-null    float64\n",
            " 29  worst fractal dimension  569 non-null    float64\n",
            " 30  target                   569 non-null    float64\n",
            "dtypes: float64(31)\n",
            "memory usage: 137.9 KB\n"
          ]
        }
      ]
    },
    {
      "cell_type": "code",
      "source": [
        "df[\"target\"]=df[\"target\"].astype(int)"
      ],
      "metadata": {
        "id": "xh95MCfiOb5i"
      },
      "execution_count": null,
      "outputs": []
    },
    {
      "cell_type": "code",
      "source": [
        "x=df.iloc[:,:-1]\n",
        "x\n",
        "y=df[\"target\"]"
      ],
      "metadata": {
        "id": "_yOqJojjSf-V"
      },
      "execution_count": null,
      "outputs": []
    },
    {
      "cell_type": "code",
      "source": [
        "for i in x.columns:\n",
        "  sns.histplot(data=df,x=df[i],hue=df[\"target\"])\n",
        "  plt.show()"
      ],
      "metadata": {
        "colab": {
          "base_uri": "https://localhost:8080/",
          "height": 1000
        },
        "id": "3eONTYbQPrhh",
        "outputId": "efccde81-a4d4-43e3-b283-e2e0fe725de6"
      },
      "execution_count": null,
      "outputs": [
        {
          "output_type": "display_data",
          "data": {
            "text/plain": [
              "<Figure size 432x288 with 1 Axes>"
            ],
            "image/png": "[encoded data removed]"
          },
          "metadata": {
            "needs_background": "light"
          }
        },
        {
          "output_type": "display_data",
          "data": {
            "text/plain": [
              "<Figure size 432x288 with 1 Axes>"
            ],
            "image/png": "[encoded data removed]"
          },
          "metadata": {
            "needs_background": "light"
          }
        },
        {
          "output_type": "display_data",
          "data": {
            "text/plain": [
              "<Figure size 432x288 with 1 Axes>"
            ],
            "image/png": "[encoded data removed]"
          },
          "metadata": {
            "needs_background": "light"
          }
        },
        {
          "output_type": "display_data",
          "data": {
            "text/plain": [
              "<Figure size 432x288 with 1 Axes>"
            ],
            "image/png": "[encoded data removed]"
          },
          "metadata": {
            "needs_background": "light"
          }
        },
        {
          "output_type": "display_data",
          "data": {
            "text/plain": [
              "<Figure size 432x288 with 1 Axes>"
            ],
            "image/png": "[encoded data removed]"
          },
          "metadata": {
            "needs_background": "light"
          }
        },
        {
          "output_type": "display_data",
          "data": {
            "text/plain": [
              "<Figure size 432x288 with 1 Axes>"
            ],
            "image/png": "[encoded data removed]"
          },
          "metadata": {
            "needs_background": "light"
          }
        },
        {
          "output_type": "display_data",
          "data": {
            "text/plain": [
              "<Figure size 432x288 with 1 Axes>"
            ],
            "image/png": "[encoded data removed]"
          },
          "metadata": {
            "needs_background": "light"
          }
        },
        {
          "output_type": "display_data",
          "data": {
            "text/plain": [
              "<Figure size 432x288 with 1 Axes>"
            ],
            "image/png": "[encoded data removed]"
          },
          "metadata": {
            "needs_background": "light"
          }
        },
        {
          "output_type": "display_data",
          "data": {
            "text/plain": [
              "<Figure size 432x288 with 1 Axes>"
            ],
            "image/png": "[encoded data removed]"
          },
          "metadata": {
            "needs_background": "light"
          }
        },
        {
          "output_type": "display_data",
          "data": {
            "text/plain": [
              "<Figure size 432x288 with 1 Axes>"
            ],
            "image/png": "[encoded data removed]"
          },
          "metadata": {
            "needs_background": "light"
          }
        },
        {
          "output_type": "display_data",
          "data": {
            "text/plain": [
              "<Figure size 432x288 with 1 Axes>"
            ],
            "image/png": "[encoded data removed]"
          },
          "metadata": {
            "needs_background": "light"
          }
        },
        {
          "output_type": "display_data",
          "data": {
            "text/plain": [
              "<Figure size 432x288 with 1 Axes>"
            ],
            "image/png": "[encoded data removed]"
          },
          "metadata": {
            "needs_background": "light"
          }
        },
        {
          "output_type": "display_data",
          "data": {
            "text/plain": [
              "<Figure size 432x288 with 1 Axes>"
            ],
            "image/png": "[encoded data removed]"
          },
          "metadata": {
            "needs_background": "light"
          }
        },
        {
          "output_type": "display_data",
          "data": {
            "text/plain": [
              "<Figure size 432x288 with 1 Axes>"
            ],
            "image/png": "[encoded data removed]"
          },
          "metadata": {
            "needs_background": "light"
          }
        },
        {
          "output_type": "display_data",
          "data": {
            "text/plain": [
              "<Figure size 432x288 with 1 Axes>"
            ],
            "image/png": "[encoded data removed]"
          },
          "metadata": {
            "needs_background": "light"
          }
        },
        {
          "output_type": "display_data",
          "data": {
            "text/plain": [
              "<Figure size 432x288 with 1 Axes>"
            ],
            "image/png": "[encoded data removed]"
          },
          "metadata": {
            "needs_background": "light"
          }
        },
        {
          "output_type": "display_data",
          "data": {
            "text/plain": [
              "<Figure size 432x288 with 1 Axes>"
            ],
            "image/png": "[encoded data removed]"
          },
          "metadata": {
            "needs_background": "light"
          }
        },
        {
          "output_type": "display_data",
          "data": {
            "text/plain": [
              "<Figure size 432x288 with 1 Axes>"
            ],
            "image/png": "[encoded data removed]"
          },
          "metadata": {
            "needs_background": "light"
          }
        },
        {
          "output_type": "display_data",
          "data": {
            "text/plain": [
              "<Figure size 432x288 with 1 Axes>"
            ],
            "image/png": "[encoded data removed]"
          },
          "metadata": {
            "needs_background": "light"
          }
        },
        {
          "output_type": "display_data",
          "data": {
            "text/plain": [
              "<Figure size 432x288 with 1 Axes>"
            ],
            "image/png": "[encoded data removed]"
          },
          "metadata": {
            "needs_background": "light"
          }
        },
        {
          "output_type": "display_data",
          "data": {
            "text/plain": [
              "<Figure size 432x288 with 1 Axes>"
            ],
            "image/png": "[encoded data removed]"
          },
          "metadata": {
            "needs_background": "light"
          }
        },
        {
          "output_type": "display_data",
          "data": {
            "text/plain": [
              "<Figure size 432x288 with 1 Axes>"
            ],
            "image/png": "[encoded data removed]"
          },
          "metadata": {
            "needs_background": "light"
          }
        },
        {
          "output_type": "display_data",
          "data": {
            "text/plain": [
              "<Figure size 432x288 with 1 Axes>"
            ],
            "image/png": "[encoded data removed]"
          },
          "metadata": {
            "needs_background": "light"
          }
        },
        {
          "output_type": "display_data",
          "data": {
            "text/plain": [
              "<Figure size 432x288 with 1 Axes>"
            ],
            "image/png": "[encoded data removed]"
          },
          "metadata": {
            "needs_background": "light"
          }
        },
        {
          "output_type": "display_data",
          "data": {
            "text/plain": [
              "<Figure size 432x288 with 1 Axes>"
            ],
            "image/png": "[encoded data removed]"
          },
          "metadata": {
            "needs_background": "light"
          }
        },
        {
          "output_type": "display_data",
          "data": {
            "text/plain": [
              "<Figure size 432x288 with 1 Axes>"
            ],
            "image/png": "[encoded data removed]"
          },
          "metadata": {
            "needs_background": "light"
          }
        },
        {
          "output_type": "display_data",
          "data": {
            "text/plain": [
              "<Figure size 432x288 with 1 Axes>"
            ],
            "image/png": "[encoded data removed]"
          },
          "metadata": {
            "needs_background": "light"
          }
        },
        {
          "output_type": "display_data",
          "data": {
            "text/plain": [
              "<Figure size 432x288 with 1 Axes>"
            ],
            "image/png": "[encoded data removed]"
          },
          "metadata": {
            "needs_background": "light"
          }
        },
        {
          "output_type": "display_data",
          "data": {
            "text/plain": [
              "<Figure size 432x288 with 1 Axes>"
            ],
            "image/png": "[encoded data removed]"
          },
          "metadata": {
            "needs_background": "light"
          }
        },
        {
          "output_type": "display_data",
          "data": {
            "text/plain": [
              "<Figure size 432x288 with 1 Axes>"
            ],
            "image/png": "[encoded data removed]"
          },
          "metadata": {
            "needs_background": "light"
          }
        }
      ]
    },
    {
      "cell_type": "code",
      "source": [
        "from sklearn.model_selection import train_test_split\n",
        "xtrain,xtest,ytrain,ytest=train_test_split(x,y,test_size=0.3,random_state=1)"
      ],
      "metadata": {
        "id": "hFg8VyqCQrqB"
      },
      "execution_count": null,
      "outputs": []
    },
    {
      "cell_type": "code",
      "source": [
        "from sklearn.preprocessing import StandardScaler\n",
        "sc=StandardScaler()"
      ],
      "metadata": {
        "id": "N2Sbl6vLXhIJ"
      },
      "execution_count": null,
      "outputs": []
    },
    {
      "cell_type": "code",
      "source": [
        "xtrain=sc.fit_transform(xtrain)\n",
        "xtest=sc.transform(xtest)"
      ],
      "metadata": {
        "id": "Dt2qikJtYa65"
      },
      "execution_count": null,
      "outputs": []
    },
    {
      "cell_type": "code",
      "source": [
        "from tensorflow.keras.callbacks import EarlyStopping\n",
        "early_stop = EarlyStopping(monitor='val_loss', mode='min', verbose=2, patience=15)"
      ],
      "metadata": {
        "id": "xvGktA2jZ_2b"
      },
      "execution_count": null,
      "outputs": []
    },
    {
      "cell_type": "code",
      "source": [
        "model=Sequential()\n",
        "model.add(Dense(20,activation=\"relu\"))\n",
        "model.add(Dense(20,activation=\"relu\"))\n",
        "model.add(Dense(1,activation=\"sigmoid\"))"
      ],
      "metadata": {
        "id": "sLYLE3XPYsD_"
      },
      "execution_count": null,
      "outputs": []
    },
    {
      "cell_type": "code",
      "source": [
        "model.compile(optimizer=\"sgd\",loss=\"binary_crossentropy\",metrics=[\"accuracy\"])"
      ],
      "metadata": {
        "id": "_Mfg9zGPY1bW"
      },
      "execution_count": null,
      "outputs": []
    },
    {
      "cell_type": "code",
      "source": [
        "model.fit(xtrain,ytrain,epochs=1500,validation_data=(xtest,ytest),verbose=1,batch_size=128,callbacks=[early_stop])"
      ],
      "metadata": {
        "colab": {
          "base_uri": "https://localhost:8080/"
        },
        "id": "QxrducSPZrzH",
        "outputId": "6cbdaca2-4579-4943-a060-c8206e3f6297"
      },
      "execution_count": null,
      "outputs": [
        {
          "output_type": "stream",
          "name": "stdout",
          "text": [
            "Epoch 1/1500\n",
            "4/4 [==============================] - 2s 118ms/step - loss: 0.7385 - accuracy: 0.4171 - val_loss: 0.7385 - val_accuracy: 0.4269\n",
            "Epoch 2/1500\n",
            "4/4 [==============================] - 0s 30ms/step - loss: 0.7220 - accuracy: 0.4598 - val_loss: 0.7258 - val_accuracy: 0.4503\n",
            "Epoch 3/1500\n",
            "4/4 [==============================] - 0s 32ms/step - loss: 0.7073 - accuracy: 0.5126 - val_loss: 0.7129 - val_accuracy: 0.4795\n",
            "Epoch 4/1500\n",
            "4/4 [==============================] - 0s 26ms/step - loss: 0.6922 - accuracy: 0.5578 - val_loss: 0.7013 - val_accuracy: 0.5088\n",
            "Epoch 5/1500\n",
            "4/4 [==============================] - 0s 31ms/step - loss: 0.6784 - accuracy: 0.5854 - val_loss: 0.6900 - val_accuracy: 0.5556\n",
            "Epoch 6/1500\n",
            "4/4 [==============================] - 0s 25ms/step - loss: 0.6650 - accuracy: 0.6231 - val_loss: 0.6793 - val_accuracy: 0.5731\n",
            "Epoch 7/1500\n",
            "4/4 [==============================] - 0s 26ms/step - loss: 0.6522 - accuracy: 0.6658 - val_loss: 0.6689 - val_accuracy: 0.5906\n",
            "Epoch 8/1500\n",
            "4/4 [==============================] - 0s 29ms/step - loss: 0.6400 - accuracy: 0.7010 - val_loss: 0.6587 - val_accuracy: 0.6257\n",
            "Epoch 9/1500\n",
            "4/4 [==============================] - 0s 23ms/step - loss: 0.6280 - accuracy: 0.7412 - val_loss: 0.6491 - val_accuracy: 0.6491\n",
            "Epoch 10/1500\n",
            "4/4 [==============================] - 0s 19ms/step - loss: 0.6166 - accuracy: 0.7613 - val_loss: 0.6382 - val_accuracy: 0.6959\n",
            "Epoch 11/1500\n",
            "4/4 [==============================] - 0s 19ms/step - loss: 0.6042 - accuracy: 0.7739 - val_loss: 0.6278 - val_accuracy: 0.7368\n",
            "Epoch 12/1500\n",
            "4/4 [==============================] - 0s 25ms/step - loss: 0.5921 - accuracy: 0.7940 - val_loss: 0.6171 - val_accuracy: 0.7661\n",
            "Epoch 13/1500\n",
            "4/4 [==============================] - 0s 32ms/step - loss: 0.5800 - accuracy: 0.8116 - val_loss: 0.6073 - val_accuracy: 0.7895\n",
            "Epoch 14/1500\n",
            "4/4 [==============================] - 0s 21ms/step - loss: 0.5689 - accuracy: 0.8317 - val_loss: 0.5972 - val_accuracy: 0.8187\n",
            "Epoch 15/1500\n",
            "4/4 [==============================] - 0s 50ms/step - loss: 0.5575 - accuracy: 0.8568 - val_loss: 0.5867 - val_accuracy: 0.8421\n",
            "Epoch 16/1500\n",
            "4/4 [==============================] - 0s 42ms/step - loss: 0.5458 - accuracy: 0.8719 - val_loss: 0.5758 - val_accuracy: 0.8480\n",
            "Epoch 17/1500\n",
            "4/4 [==============================] - 0s 35ms/step - loss: 0.5340 - accuracy: 0.8794 - val_loss: 0.5662 - val_accuracy: 0.8655\n",
            "Epoch 18/1500\n",
            "4/4 [==============================] - 0s 28ms/step - loss: 0.5233 - accuracy: 0.8819 - val_loss: 0.5562 - val_accuracy: 0.8713\n",
            "Epoch 19/1500\n",
            "4/4 [==============================] - 0s 32ms/step - loss: 0.5124 - accuracy: 0.8945 - val_loss: 0.5465 - val_accuracy: 0.8713\n",
            "Epoch 20/1500\n",
            "4/4 [==============================] - 0s 21ms/step - loss: 0.5019 - accuracy: 0.8945 - val_loss: 0.5366 - val_accuracy: 0.8713\n",
            "Epoch 21/1500\n",
            "4/4 [==============================] - 0s 20ms/step - loss: 0.4913 - accuracy: 0.9070 - val_loss: 0.5265 - val_accuracy: 0.8772\n",
            "Epoch 22/1500\n",
            "4/4 [==============================] - 0s 24ms/step - loss: 0.4802 - accuracy: 0.9095 - val_loss: 0.5171 - val_accuracy: 0.8889\n",
            "Epoch 23/1500\n",
            "4/4 [==============================] - 0s 23ms/step - loss: 0.4698 - accuracy: 0.9121 - val_loss: 0.5074 - val_accuracy: 0.8947\n",
            "Epoch 24/1500\n",
            "4/4 [==============================] - 0s 25ms/step - loss: 0.4594 - accuracy: 0.9221 - val_loss: 0.4974 - val_accuracy: 0.9064\n",
            "Epoch 25/1500\n",
            "4/4 [==============================] - 0s 23ms/step - loss: 0.4490 - accuracy: 0.9246 - val_loss: 0.4883 - val_accuracy: 0.9064\n",
            "Epoch 26/1500\n",
            "4/4 [==============================] - 0s 18ms/step - loss: 0.4392 - accuracy: 0.9271 - val_loss: 0.4789 - val_accuracy: 0.9123\n",
            "Epoch 27/1500\n",
            "4/4 [==============================] - 0s 28ms/step - loss: 0.4294 - accuracy: 0.9296 - val_loss: 0.4699 - val_accuracy: 0.9123\n",
            "Epoch 28/1500\n",
            "4/4 [==============================] - 0s 22ms/step - loss: 0.4199 - accuracy: 0.9296 - val_loss: 0.4607 - val_accuracy: 0.9123\n",
            "Epoch 29/1500\n",
            "4/4 [==============================] - 0s 27ms/step - loss: 0.4105 - accuracy: 0.9322 - val_loss: 0.4524 - val_accuracy: 0.9123\n",
            "Epoch 30/1500\n",
            "4/4 [==============================] - 0s 27ms/step - loss: 0.4014 - accuracy: 0.9347 - val_loss: 0.4434 - val_accuracy: 0.9123\n",
            "Epoch 31/1500\n",
            "4/4 [==============================] - 0s 20ms/step - loss: 0.3919 - accuracy: 0.9372 - val_loss: 0.4349 - val_accuracy: 0.9123\n",
            "Epoch 32/1500\n",
            "4/4 [==============================] - 0s 21ms/step - loss: 0.3830 - accuracy: 0.9372 - val_loss: 0.4270 - val_accuracy: 0.9123\n",
            "Epoch 33/1500\n",
            "4/4 [==============================] - 0s 22ms/step - loss: 0.3742 - accuracy: 0.9372 - val_loss: 0.4188 - val_accuracy: 0.9123\n",
            "Epoch 34/1500\n",
            "4/4 [==============================] - 0s 43ms/step - loss: 0.3657 - accuracy: 0.9372 - val_loss: 0.4107 - val_accuracy: 0.9123\n",
            "Epoch 35/1500\n",
            "4/4 [==============================] - 0s 56ms/step - loss: 0.3575 - accuracy: 0.9372 - val_loss: 0.4033 - val_accuracy: 0.9123\n",
            "Epoch 36/1500\n",
            "4/4 [==============================] - 0s 41ms/step - loss: 0.3497 - accuracy: 0.9372 - val_loss: 0.3956 - val_accuracy: 0.9181\n",
            "Epoch 37/1500\n",
            "4/4 [==============================] - 0s 28ms/step - loss: 0.3415 - accuracy: 0.9397 - val_loss: 0.3882 - val_accuracy: 0.9240\n",
            "Epoch 38/1500\n",
            "4/4 [==============================] - 0s 40ms/step - loss: 0.3339 - accuracy: 0.9397 - val_loss: 0.3811 - val_accuracy: 0.9240\n",
            "Epoch 39/1500\n",
            "4/4 [==============================] - 0s 42ms/step - loss: 0.3265 - accuracy: 0.9397 - val_loss: 0.3739 - val_accuracy: 0.9240\n",
            "Epoch 40/1500\n",
            "4/4 [==============================] - 0s 35ms/step - loss: 0.3193 - accuracy: 0.9397 - val_loss: 0.3671 - val_accuracy: 0.9240\n",
            "Epoch 41/1500\n",
            "4/4 [==============================] - 0s 53ms/step - loss: 0.3123 - accuracy: 0.9422 - val_loss: 0.3608 - val_accuracy: 0.9240\n",
            "Epoch 42/1500\n",
            "4/4 [==============================] - 0s 29ms/step - loss: 0.3055 - accuracy: 0.9447 - val_loss: 0.3544 - val_accuracy: 0.9240\n",
            "Epoch 43/1500\n",
            "4/4 [==============================] - 0s 17ms/step - loss: 0.2990 - accuracy: 0.9447 - val_loss: 0.3483 - val_accuracy: 0.9298\n",
            "Epoch 44/1500\n",
            "4/4 [==============================] - 0s 19ms/step - loss: 0.2926 - accuracy: 0.9447 - val_loss: 0.3419 - val_accuracy: 0.9298\n",
            "Epoch 45/1500\n",
            "4/4 [==============================] - 0s 12ms/step - loss: 0.2863 - accuracy: 0.9447 - val_loss: 0.3361 - val_accuracy: 0.9298\n",
            "Epoch 46/1500\n",
            "4/4 [==============================] - 0s 22ms/step - loss: 0.2805 - accuracy: 0.9447 - val_loss: 0.3306 - val_accuracy: 0.9298\n",
            "Epoch 47/1500\n",
            "4/4 [==============================] - 0s 21ms/step - loss: 0.2748 - accuracy: 0.9447 - val_loss: 0.3250 - val_accuracy: 0.9298\n",
            "Epoch 48/1500\n",
            "4/4 [==============================] - 0s 17ms/step - loss: 0.2694 - accuracy: 0.9472 - val_loss: 0.3201 - val_accuracy: 0.9298\n",
            "Epoch 49/1500\n",
            "4/4 [==============================] - 0s 23ms/step - loss: 0.2641 - accuracy: 0.9497 - val_loss: 0.3149 - val_accuracy: 0.9298\n",
            "Epoch 50/1500\n",
            "4/4 [==============================] - 0s 22ms/step - loss: 0.2592 - accuracy: 0.9497 - val_loss: 0.3097 - val_accuracy: 0.9298\n",
            "Epoch 51/1500\n",
            "4/4 [==============================] - 0s 15ms/step - loss: 0.2540 - accuracy: 0.9497 - val_loss: 0.3045 - val_accuracy: 0.9357\n",
            "Epoch 52/1500\n",
            "4/4 [==============================] - 0s 22ms/step - loss: 0.2489 - accuracy: 0.9497 - val_loss: 0.2999 - val_accuracy: 0.9357\n",
            "Epoch 53/1500\n",
            "4/4 [==============================] - 0s 12ms/step - loss: 0.2442 - accuracy: 0.9497 - val_loss: 0.2953 - val_accuracy: 0.9357\n",
            "Epoch 54/1500\n",
            "4/4 [==============================] - 0s 19ms/step - loss: 0.2395 - accuracy: 0.9523 - val_loss: 0.2910 - val_accuracy: 0.9357\n",
            "Epoch 55/1500\n",
            "4/4 [==============================] - 0s 12ms/step - loss: 0.2351 - accuracy: 0.9523 - val_loss: 0.2867 - val_accuracy: 0.9357\n",
            "Epoch 56/1500\n",
            "4/4 [==============================] - 0s 14ms/step - loss: 0.2309 - accuracy: 0.9523 - val_loss: 0.2832 - val_accuracy: 0.9357\n",
            "Epoch 57/1500\n",
            "4/4 [==============================] - 0s 11ms/step - loss: 0.2272 - accuracy: 0.9523 - val_loss: 0.2793 - val_accuracy: 0.9357\n",
            "Epoch 58/1500\n",
            "4/4 [==============================] - 0s 17ms/step - loss: 0.2233 - accuracy: 0.9523 - val_loss: 0.2755 - val_accuracy: 0.9357\n",
            "Epoch 59/1500\n",
            "4/4 [==============================] - 0s 17ms/step - loss: 0.2194 - accuracy: 0.9548 - val_loss: 0.2718 - val_accuracy: 0.9357\n",
            "Epoch 60/1500\n",
            "4/4 [==============================] - 0s 11ms/step - loss: 0.2157 - accuracy: 0.9548 - val_loss: 0.2682 - val_accuracy: 0.9474\n",
            "Epoch 61/1500\n",
            "4/4 [==============================] - 0s 19ms/step - loss: 0.2121 - accuracy: 0.9548 - val_loss: 0.2649 - val_accuracy: 0.9474\n",
            "Epoch 62/1500\n",
            "4/4 [==============================] - 0s 13ms/step - loss: 0.2088 - accuracy: 0.9548 - val_loss: 0.2617 - val_accuracy: 0.9474\n",
            "Epoch 63/1500\n",
            "4/4 [==============================] - 0s 17ms/step - loss: 0.2055 - accuracy: 0.9548 - val_loss: 0.2584 - val_accuracy: 0.9474\n",
            "Epoch 64/1500\n",
            "4/4 [==============================] - 0s 12ms/step - loss: 0.2022 - accuracy: 0.9548 - val_loss: 0.2551 - val_accuracy: 0.9532\n",
            "Epoch 65/1500\n",
            "4/4 [==============================] - 0s 18ms/step - loss: 0.1991 - accuracy: 0.9573 - val_loss: 0.2522 - val_accuracy: 0.9591\n",
            "Epoch 66/1500\n",
            "4/4 [==============================] - 0s 14ms/step - loss: 0.1961 - accuracy: 0.9573 - val_loss: 0.2494 - val_accuracy: 0.9591\n",
            "Epoch 67/1500\n",
            "4/4 [==============================] - 0s 11ms/step - loss: 0.1934 - accuracy: 0.9573 - val_loss: 0.2469 - val_accuracy: 0.9591\n",
            "Epoch 68/1500\n",
            "4/4 [==============================] - 0s 17ms/step - loss: 0.1909 - accuracy: 0.9598 - val_loss: 0.2439 - val_accuracy: 0.9591\n",
            "Epoch 69/1500\n",
            "4/4 [==============================] - 0s 11ms/step - loss: 0.1881 - accuracy: 0.9598 - val_loss: 0.2413 - val_accuracy: 0.9591\n",
            "Epoch 70/1500\n",
            "4/4 [==============================] - 0s 11ms/step - loss: 0.1855 - accuracy: 0.9598 - val_loss: 0.2387 - val_accuracy: 0.9591\n",
            "Epoch 71/1500\n",
            "4/4 [==============================] - 0s 12ms/step - loss: 0.1827 - accuracy: 0.9598 - val_loss: 0.2360 - val_accuracy: 0.9591\n",
            "Epoch 72/1500\n",
            "4/4 [==============================] - 0s 11ms/step - loss: 0.1802 - accuracy: 0.9598 - val_loss: 0.2335 - val_accuracy: 0.9591\n",
            "Epoch 73/1500\n",
            "4/4 [==============================] - 0s 17ms/step - loss: 0.1777 - accuracy: 0.9598 - val_loss: 0.2311 - val_accuracy: 0.9591\n",
            "Epoch 74/1500\n",
            "4/4 [==============================] - 0s 13ms/step - loss: 0.1753 - accuracy: 0.9598 - val_loss: 0.2290 - val_accuracy: 0.9474\n",
            "Epoch 75/1500\n",
            "4/4 [==============================] - 0s 12ms/step - loss: 0.1731 - accuracy: 0.9598 - val_loss: 0.2266 - val_accuracy: 0.9474\n",
            "Epoch 76/1500\n",
            "4/4 [==============================] - 0s 13ms/step - loss: 0.1709 - accuracy: 0.9598 - val_loss: 0.2243 - val_accuracy: 0.9474\n",
            "Epoch 77/1500\n",
            "4/4 [==============================] - 0s 13ms/step - loss: 0.1686 - accuracy: 0.9598 - val_loss: 0.2221 - val_accuracy: 0.9474\n",
            "Epoch 78/1500\n",
            "4/4 [==============================] - 0s 11ms/step - loss: 0.1664 - accuracy: 0.9623 - val_loss: 0.2199 - val_accuracy: 0.9474\n",
            "Epoch 79/1500\n",
            "4/4 [==============================] - 0s 11ms/step - loss: 0.1643 - accuracy: 0.9623 - val_loss: 0.2178 - val_accuracy: 0.9474\n",
            "Epoch 80/1500\n",
            "4/4 [==============================] - 0s 11ms/step - loss: 0.1621 - accuracy: 0.9623 - val_loss: 0.2158 - val_accuracy: 0.9474\n",
            "Epoch 81/1500\n",
            "4/4 [==============================] - 0s 10ms/step - loss: 0.1604 - accuracy: 0.9598 - val_loss: 0.2139 - val_accuracy: 0.9474\n",
            "Epoch 82/1500\n",
            "4/4 [==============================] - 0s 11ms/step - loss: 0.1584 - accuracy: 0.9598 - val_loss: 0.2120 - val_accuracy: 0.9474\n",
            "Epoch 83/1500\n",
            "4/4 [==============================] - 0s 12ms/step - loss: 0.1565 - accuracy: 0.9598 - val_loss: 0.2104 - val_accuracy: 0.9474\n",
            "Epoch 84/1500\n",
            "4/4 [==============================] - 0s 10ms/step - loss: 0.1550 - accuracy: 0.9598 - val_loss: 0.2087 - val_accuracy: 0.9474\n",
            "Epoch 85/1500\n",
            "4/4 [==============================] - 0s 20ms/step - loss: 0.1531 - accuracy: 0.9623 - val_loss: 0.2070 - val_accuracy: 0.9474\n",
            "Epoch 86/1500\n",
            "4/4 [==============================] - 0s 12ms/step - loss: 0.1512 - accuracy: 0.9648 - val_loss: 0.2055 - val_accuracy: 0.9474\n",
            "Epoch 87/1500\n",
            "4/4 [==============================] - 0s 12ms/step - loss: 0.1496 - accuracy: 0.9623 - val_loss: 0.2038 - val_accuracy: 0.9532\n",
            "Epoch 88/1500\n",
            "4/4 [==============================] - 0s 11ms/step - loss: 0.1479 - accuracy: 0.9623 - val_loss: 0.2023 - val_accuracy: 0.9532\n",
            "Epoch 89/1500\n",
            "4/4 [==============================] - 0s 10ms/step - loss: 0.1464 - accuracy: 0.9623 - val_loss: 0.2007 - val_accuracy: 0.9532\n",
            "Epoch 90/1500\n",
            "4/4 [==============================] - 0s 13ms/step - loss: 0.1449 - accuracy: 0.9623 - val_loss: 0.1995 - val_accuracy: 0.9532\n",
            "Epoch 91/1500\n",
            "4/4 [==============================] - 0s 12ms/step - loss: 0.1435 - accuracy: 0.9648 - val_loss: 0.1979 - val_accuracy: 0.9532\n",
            "Epoch 92/1500\n",
            "4/4 [==============================] - 0s 11ms/step - loss: 0.1417 - accuracy: 0.9648 - val_loss: 0.1966 - val_accuracy: 0.9532\n",
            "Epoch 93/1500\n",
            "4/4 [==============================] - 0s 12ms/step - loss: 0.1403 - accuracy: 0.9648 - val_loss: 0.1952 - val_accuracy: 0.9532\n",
            "Epoch 94/1500\n",
            "4/4 [==============================] - 0s 11ms/step - loss: 0.1388 - accuracy: 0.9673 - val_loss: 0.1935 - val_accuracy: 0.9532\n",
            "Epoch 95/1500\n",
            "4/4 [==============================] - 0s 12ms/step - loss: 0.1372 - accuracy: 0.9673 - val_loss: 0.1923 - val_accuracy: 0.9532\n",
            "Epoch 96/1500\n",
            "4/4 [==============================] - 0s 18ms/step - loss: 0.1360 - accuracy: 0.9673 - val_loss: 0.1909 - val_accuracy: 0.9532\n",
            "Epoch 97/1500\n",
            "4/4 [==============================] - 0s 13ms/step - loss: 0.1345 - accuracy: 0.9698 - val_loss: 0.1895 - val_accuracy: 0.9532\n",
            "Epoch 98/1500\n",
            "4/4 [==============================] - 0s 18ms/step - loss: 0.1331 - accuracy: 0.9698 - val_loss: 0.1882 - val_accuracy: 0.9532\n",
            "Epoch 99/1500\n",
            "4/4 [==============================] - 0s 12ms/step - loss: 0.1317 - accuracy: 0.9724 - val_loss: 0.1869 - val_accuracy: 0.9532\n",
            "Epoch 100/1500\n",
            "4/4 [==============================] - 0s 10ms/step - loss: 0.1305 - accuracy: 0.9749 - val_loss: 0.1855 - val_accuracy: 0.9532\n",
            "Epoch 101/1500\n",
            "4/4 [==============================] - 0s 16ms/step - loss: 0.1292 - accuracy: 0.9774 - val_loss: 0.1843 - val_accuracy: 0.9532\n",
            "Epoch 102/1500\n",
            "4/4 [==============================] - 0s 11ms/step - loss: 0.1280 - accuracy: 0.9774 - val_loss: 0.1832 - val_accuracy: 0.9532\n",
            "Epoch 103/1500\n",
            "4/4 [==============================] - 0s 11ms/step - loss: 0.1268 - accuracy: 0.9774 - val_loss: 0.1818 - val_accuracy: 0.9532\n",
            "Epoch 104/1500\n",
            "4/4 [==============================] - 0s 10ms/step - loss: 0.1255 - accuracy: 0.9774 - val_loss: 0.1807 - val_accuracy: 0.9532\n",
            "Epoch 105/1500\n",
            "4/4 [==============================] - 0s 12ms/step - loss: 0.1243 - accuracy: 0.9774 - val_loss: 0.1796 - val_accuracy: 0.9532\n",
            "Epoch 106/1500\n",
            "4/4 [==============================] - 0s 13ms/step - loss: 0.1232 - accuracy: 0.9774 - val_loss: 0.1786 - val_accuracy: 0.9532\n",
            "Epoch 107/1500\n",
            "4/4 [==============================] - 0s 13ms/step - loss: 0.1221 - accuracy: 0.9774 - val_loss: 0.1775 - val_accuracy: 0.9532\n",
            "Epoch 108/1500\n",
            "4/4 [==============================] - 0s 10ms/step - loss: 0.1210 - accuracy: 0.9774 - val_loss: 0.1768 - val_accuracy: 0.9532\n",
            "Epoch 109/1500\n",
            "4/4 [==============================] - 0s 12ms/step - loss: 0.1200 - accuracy: 0.9774 - val_loss: 0.1759 - val_accuracy: 0.9532\n",
            "Epoch 110/1500\n",
            "4/4 [==============================] - 0s 10ms/step - loss: 0.1191 - accuracy: 0.9774 - val_loss: 0.1749 - val_accuracy: 0.9532\n",
            "Epoch 111/1500\n",
            "4/4 [==============================] - 0s 11ms/step - loss: 0.1180 - accuracy: 0.9774 - val_loss: 0.1739 - val_accuracy: 0.9532\n",
            "Epoch 112/1500\n",
            "4/4 [==============================] - 0s 10ms/step - loss: 0.1171 - accuracy: 0.9799 - val_loss: 0.1731 - val_accuracy: 0.9532\n",
            "Epoch 113/1500\n",
            "4/4 [==============================] - 0s 16ms/step - loss: 0.1162 - accuracy: 0.9774 - val_loss: 0.1722 - val_accuracy: 0.9532\n",
            "Epoch 114/1500\n",
            "4/4 [==============================] - 0s 10ms/step - loss: 0.1153 - accuracy: 0.9774 - val_loss: 0.1713 - val_accuracy: 0.9532\n",
            "Epoch 115/1500\n",
            "4/4 [==============================] - 0s 10ms/step - loss: 0.1143 - accuracy: 0.9774 - val_loss: 0.1707 - val_accuracy: 0.9532\n",
            "Epoch 116/1500\n",
            "4/4 [==============================] - 0s 10ms/step - loss: 0.1136 - accuracy: 0.9799 - val_loss: 0.1699 - val_accuracy: 0.9532\n",
            "Epoch 117/1500\n",
            "4/4 [==============================] - 0s 10ms/step - loss: 0.1128 - accuracy: 0.9799 - val_loss: 0.1689 - val_accuracy: 0.9532\n",
            "Epoch 118/1500\n",
            "4/4 [==============================] - 0s 10ms/step - loss: 0.1119 - accuracy: 0.9799 - val_loss: 0.1682 - val_accuracy: 0.9532\n",
            "Epoch 119/1500\n",
            "4/4 [==============================] - 0s 10ms/step - loss: 0.1113 - accuracy: 0.9799 - val_loss: 0.1676 - val_accuracy: 0.9532\n",
            "Epoch 120/1500\n",
            "4/4 [==============================] - 0s 10ms/step - loss: 0.1105 - accuracy: 0.9774 - val_loss: 0.1667 - val_accuracy: 0.9532\n",
            "Epoch 121/1500\n",
            "4/4 [==============================] - 0s 11ms/step - loss: 0.1096 - accuracy: 0.9774 - val_loss: 0.1660 - val_accuracy: 0.9532\n",
            "Epoch 122/1500\n",
            "4/4 [==============================] - 0s 10ms/step - loss: 0.1089 - accuracy: 0.9774 - val_loss: 0.1652 - val_accuracy: 0.9532\n",
            "Epoch 123/1500\n",
            "4/4 [==============================] - 0s 10ms/step - loss: 0.1081 - accuracy: 0.9799 - val_loss: 0.1646 - val_accuracy: 0.9532\n",
            "Epoch 124/1500\n",
            "4/4 [==============================] - 0s 11ms/step - loss: 0.1074 - accuracy: 0.9799 - val_loss: 0.1639 - val_accuracy: 0.9532\n",
            "Epoch 125/1500\n",
            "4/4 [==============================] - 0s 10ms/step - loss: 0.1067 - accuracy: 0.9799 - val_loss: 0.1631 - val_accuracy: 0.9532\n",
            "Epoch 126/1500\n",
            "4/4 [==============================] - 0s 10ms/step - loss: 0.1060 - accuracy: 0.9799 - val_loss: 0.1625 - val_accuracy: 0.9532\n",
            "Epoch 127/1500\n",
            "4/4 [==============================] - 0s 11ms/step - loss: 0.1053 - accuracy: 0.9799 - val_loss: 0.1619 - val_accuracy: 0.9532\n",
            "Epoch 128/1500\n",
            "4/4 [==============================] - 0s 11ms/step - loss: 0.1045 - accuracy: 0.9799 - val_loss: 0.1611 - val_accuracy: 0.9532\n",
            "Epoch 129/1500\n",
            "4/4 [==============================] - 0s 11ms/step - loss: 0.1038 - accuracy: 0.9799 - val_loss: 0.1605 - val_accuracy: 0.9532\n",
            "Epoch 130/1500\n",
            "4/4 [==============================] - 0s 19ms/step - loss: 0.1031 - accuracy: 0.9799 - val_loss: 0.1597 - val_accuracy: 0.9532\n",
            "Epoch 131/1500\n",
            "4/4 [==============================] - 0s 14ms/step - loss: 0.1025 - accuracy: 0.9774 - val_loss: 0.1590 - val_accuracy: 0.9532\n",
            "Epoch 132/1500\n",
            "4/4 [==============================] - 0s 12ms/step - loss: 0.1018 - accuracy: 0.9774 - val_loss: 0.1584 - val_accuracy: 0.9532\n",
            "Epoch 133/1500\n",
            "4/4 [==============================] - 0s 12ms/step - loss: 0.1012 - accuracy: 0.9774 - val_loss: 0.1578 - val_accuracy: 0.9532\n",
            "Epoch 134/1500\n",
            "4/4 [==============================] - 0s 16ms/step - loss: 0.1005 - accuracy: 0.9774 - val_loss: 0.1573 - val_accuracy: 0.9532\n",
            "Epoch 135/1500\n",
            "4/4 [==============================] - 0s 10ms/step - loss: 0.0999 - accuracy: 0.9799 - val_loss: 0.1567 - val_accuracy: 0.9532\n",
            "Epoch 136/1500\n",
            "4/4 [==============================] - 0s 13ms/step - loss: 0.0993 - accuracy: 0.9799 - val_loss: 0.1562 - val_accuracy: 0.9532\n",
            "Epoch 137/1500\n",
            "4/4 [==============================] - 0s 14ms/step - loss: 0.0986 - accuracy: 0.9849 - val_loss: 0.1555 - val_accuracy: 0.9532\n",
            "Epoch 138/1500\n",
            "4/4 [==============================] - 0s 10ms/step - loss: 0.0980 - accuracy: 0.9849 - val_loss: 0.1549 - val_accuracy: 0.9532\n",
            "Epoch 139/1500\n",
            "4/4 [==============================] - 0s 10ms/step - loss: 0.0974 - accuracy: 0.9849 - val_loss: 0.1544 - val_accuracy: 0.9532\n",
            "Epoch 140/1500\n",
            "4/4 [==============================] - 0s 10ms/step - loss: 0.0969 - accuracy: 0.9849 - val_loss: 0.1537 - val_accuracy: 0.9532\n",
            "Epoch 141/1500\n",
            "4/4 [==============================] - 0s 12ms/step - loss: 0.0963 - accuracy: 0.9849 - val_loss: 0.1533 - val_accuracy: 0.9532\n",
            "Epoch 142/1500\n",
            "4/4 [==============================] - 0s 10ms/step - loss: 0.0958 - accuracy: 0.9849 - val_loss: 0.1527 - val_accuracy: 0.9532\n",
            "Epoch 143/1500\n",
            "4/4 [==============================] - 0s 11ms/step - loss: 0.0952 - accuracy: 0.9849 - val_loss: 0.1522 - val_accuracy: 0.9532\n",
            "Epoch 144/1500\n",
            "4/4 [==============================] - 0s 14ms/step - loss: 0.0947 - accuracy: 0.9849 - val_loss: 0.1516 - val_accuracy: 0.9532\n",
            "Epoch 145/1500\n",
            "4/4 [==============================] - 0s 12ms/step - loss: 0.0942 - accuracy: 0.9849 - val_loss: 0.1512 - val_accuracy: 0.9532\n",
            "Epoch 146/1500\n",
            "4/4 [==============================] - 0s 13ms/step - loss: 0.0937 - accuracy: 0.9849 - val_loss: 0.1508 - val_accuracy: 0.9532\n",
            "Epoch 147/1500\n",
            "4/4 [==============================] - 0s 12ms/step - loss: 0.0932 - accuracy: 0.9849 - val_loss: 0.1502 - val_accuracy: 0.9532\n",
            "Epoch 148/1500\n",
            "4/4 [==============================] - 0s 12ms/step - loss: 0.0927 - accuracy: 0.9849 - val_loss: 0.1497 - val_accuracy: 0.9532\n",
            "Epoch 149/1500\n",
            "4/4 [==============================] - 0s 14ms/step - loss: 0.0921 - accuracy: 0.9849 - val_loss: 0.1493 - val_accuracy: 0.9532\n",
            "Epoch 150/1500\n",
            "4/4 [==============================] - 0s 13ms/step - loss: 0.0915 - accuracy: 0.9849 - val_loss: 0.1489 - val_accuracy: 0.9532\n",
            "Epoch 151/1500\n",
            "4/4 [==============================] - 0s 13ms/step - loss: 0.0911 - accuracy: 0.9849 - val_loss: 0.1484 - val_accuracy: 0.9532\n",
            "Epoch 152/1500\n",
            "4/4 [==============================] - 0s 10ms/step - loss: 0.0906 - accuracy: 0.9874 - val_loss: 0.1479 - val_accuracy: 0.9532\n",
            "Epoch 153/1500\n",
            "4/4 [==============================] - 0s 11ms/step - loss: 0.0901 - accuracy: 0.9874 - val_loss: 0.1475 - val_accuracy: 0.9532\n",
            "Epoch 154/1500\n",
            "4/4 [==============================] - 0s 12ms/step - loss: 0.0897 - accuracy: 0.9874 - val_loss: 0.1470 - val_accuracy: 0.9532\n",
            "Epoch 155/1500\n",
            "4/4 [==============================] - 0s 10ms/step - loss: 0.0891 - accuracy: 0.9874 - val_loss: 0.1466 - val_accuracy: 0.9532\n",
            "Epoch 156/1500\n",
            "4/4 [==============================] - 0s 10ms/step - loss: 0.0887 - accuracy: 0.9874 - val_loss: 0.1461 - val_accuracy: 0.9532\n",
            "Epoch 157/1500\n",
            "4/4 [==============================] - 0s 16ms/step - loss: 0.0882 - accuracy: 0.9874 - val_loss: 0.1457 - val_accuracy: 0.9532\n",
            "Epoch 158/1500\n",
            "4/4 [==============================] - 0s 10ms/step - loss: 0.0878 - accuracy: 0.9874 - val_loss: 0.1452 - val_accuracy: 0.9532\n",
            "Epoch 159/1500\n",
            "4/4 [==============================] - 0s 10ms/step - loss: 0.0873 - accuracy: 0.9874 - val_loss: 0.1449 - val_accuracy: 0.9532\n",
            "Epoch 160/1500\n",
            "4/4 [==============================] - 0s 11ms/step - loss: 0.0869 - accuracy: 0.9874 - val_loss: 0.1445 - val_accuracy: 0.9532\n",
            "Epoch 161/1500\n",
            "4/4 [==============================] - 0s 10ms/step - loss: 0.0866 - accuracy: 0.9874 - val_loss: 0.1442 - val_accuracy: 0.9532\n",
            "Epoch 162/1500\n",
            "4/4 [==============================] - 0s 16ms/step - loss: 0.0862 - accuracy: 0.9874 - val_loss: 0.1439 - val_accuracy: 0.9532\n",
            "Epoch 163/1500\n",
            "4/4 [==============================] - 0s 17ms/step - loss: 0.0858 - accuracy: 0.9874 - val_loss: 0.1435 - val_accuracy: 0.9532\n",
            "Epoch 164/1500\n",
            "4/4 [==============================] - 0s 19ms/step - loss: 0.0854 - accuracy: 0.9874 - val_loss: 0.1431 - val_accuracy: 0.9532\n",
            "Epoch 165/1500\n",
            "4/4 [==============================] - 0s 13ms/step - loss: 0.0850 - accuracy: 0.9874 - val_loss: 0.1427 - val_accuracy: 0.9532\n",
            "Epoch 166/1500\n",
            "4/4 [==============================] - 0s 14ms/step - loss: 0.0846 - accuracy: 0.9874 - val_loss: 0.1424 - val_accuracy: 0.9532\n",
            "Epoch 167/1500\n",
            "4/4 [==============================] - 0s 13ms/step - loss: 0.0843 - accuracy: 0.9874 - val_loss: 0.1421 - val_accuracy: 0.9532\n",
            "Epoch 168/1500\n",
            "4/4 [==============================] - 0s 14ms/step - loss: 0.0839 - accuracy: 0.9874 - val_loss: 0.1416 - val_accuracy: 0.9532\n",
            "Epoch 169/1500\n",
            "4/4 [==============================] - 0s 12ms/step - loss: 0.0834 - accuracy: 0.9874 - val_loss: 0.1413 - val_accuracy: 0.9532\n",
            "Epoch 170/1500\n",
            "4/4 [==============================] - 0s 15ms/step - loss: 0.0831 - accuracy: 0.9874 - val_loss: 0.1409 - val_accuracy: 0.9532\n",
            "Epoch 171/1500\n",
            "4/4 [==============================] - 0s 13ms/step - loss: 0.0829 - accuracy: 0.9874 - val_loss: 0.1404 - val_accuracy: 0.9532\n",
            "Epoch 172/1500\n",
            "4/4 [==============================] - 0s 12ms/step - loss: 0.0825 - accuracy: 0.9899 - val_loss: 0.1400 - val_accuracy: 0.9532\n",
            "Epoch 173/1500\n",
            "4/4 [==============================] - 0s 12ms/step - loss: 0.0821 - accuracy: 0.9899 - val_loss: 0.1396 - val_accuracy: 0.9532\n",
            "Epoch 174/1500\n",
            "4/4 [==============================] - 0s 14ms/step - loss: 0.0817 - accuracy: 0.9899 - val_loss: 0.1392 - val_accuracy: 0.9532\n",
            "Epoch 175/1500\n",
            "4/4 [==============================] - 0s 12ms/step - loss: 0.0813 - accuracy: 0.9899 - val_loss: 0.1389 - val_accuracy: 0.9532\n",
            "Epoch 176/1500\n",
            "4/4 [==============================] - 0s 11ms/step - loss: 0.0810 - accuracy: 0.9899 - val_loss: 0.1386 - val_accuracy: 0.9532\n",
            "Epoch 177/1500\n",
            "4/4 [==============================] - 0s 10ms/step - loss: 0.0807 - accuracy: 0.9899 - val_loss: 0.1383 - val_accuracy: 0.9532\n",
            "Epoch 178/1500\n",
            "4/4 [==============================] - 0s 11ms/step - loss: 0.0804 - accuracy: 0.9899 - val_loss: 0.1379 - val_accuracy: 0.9532\n",
            "Epoch 179/1500\n",
            "4/4 [==============================] - 0s 12ms/step - loss: 0.0800 - accuracy: 0.9899 - val_loss: 0.1376 - val_accuracy: 0.9532\n",
            "Epoch 180/1500\n",
            "4/4 [==============================] - 0s 13ms/step - loss: 0.0797 - accuracy: 0.9899 - val_loss: 0.1373 - val_accuracy: 0.9591\n",
            "Epoch 181/1500\n",
            "4/4 [==============================] - 0s 12ms/step - loss: 0.0793 - accuracy: 0.9899 - val_loss: 0.1368 - val_accuracy: 0.9591\n",
            "Epoch 182/1500\n",
            "4/4 [==============================] - 0s 11ms/step - loss: 0.0791 - accuracy: 0.9899 - val_loss: 0.1365 - val_accuracy: 0.9591\n",
            "Epoch 183/1500\n",
            "4/4 [==============================] - 0s 11ms/step - loss: 0.0788 - accuracy: 0.9899 - val_loss: 0.1361 - val_accuracy: 0.9591\n",
            "Epoch 184/1500\n",
            "4/4 [==============================] - 0s 18ms/step - loss: 0.0784 - accuracy: 0.9899 - val_loss: 0.1357 - val_accuracy: 0.9591\n",
            "Epoch 185/1500\n",
            "4/4 [==============================] - 0s 12ms/step - loss: 0.0781 - accuracy: 0.9899 - val_loss: 0.1353 - val_accuracy: 0.9591\n",
            "Epoch 186/1500\n",
            "4/4 [==============================] - 0s 11ms/step - loss: 0.0778 - accuracy: 0.9899 - val_loss: 0.1351 - val_accuracy: 0.9591\n",
            "Epoch 187/1500\n",
            "4/4 [==============================] - 0s 17ms/step - loss: 0.0775 - accuracy: 0.9899 - val_loss: 0.1347 - val_accuracy: 0.9591\n",
            "Epoch 188/1500\n",
            "4/4 [==============================] - 0s 16ms/step - loss: 0.0772 - accuracy: 0.9899 - val_loss: 0.1344 - val_accuracy: 0.9591\n",
            "Epoch 189/1500\n",
            "4/4 [==============================] - 0s 10ms/step - loss: 0.0769 - accuracy: 0.9899 - val_loss: 0.1341 - val_accuracy: 0.9591\n",
            "Epoch 190/1500\n",
            "4/4 [==============================] - 0s 10ms/step - loss: 0.0765 - accuracy: 0.9899 - val_loss: 0.1339 - val_accuracy: 0.9591\n",
            "Epoch 191/1500\n",
            "4/4 [==============================] - 0s 11ms/step - loss: 0.0762 - accuracy: 0.9899 - val_loss: 0.1337 - val_accuracy: 0.9591\n",
            "Epoch 192/1500\n",
            "4/4 [==============================] - 0s 11ms/step - loss: 0.0759 - accuracy: 0.9899 - val_loss: 0.1333 - val_accuracy: 0.9591\n",
            "Epoch 193/1500\n",
            "4/4 [==============================] - 0s 11ms/step - loss: 0.0757 - accuracy: 0.9899 - val_loss: 0.1331 - val_accuracy: 0.9591\n",
            "Epoch 194/1500\n",
            "4/4 [==============================] - 0s 15ms/step - loss: 0.0754 - accuracy: 0.9899 - val_loss: 0.1329 - val_accuracy: 0.9591\n",
            "Epoch 195/1500\n",
            "4/4 [==============================] - 0s 11ms/step - loss: 0.0752 - accuracy: 0.9899 - val_loss: 0.1324 - val_accuracy: 0.9591\n",
            "Epoch 196/1500\n",
            "4/4 [==============================] - 0s 12ms/step - loss: 0.0749 - accuracy: 0.9899 - val_loss: 0.1323 - val_accuracy: 0.9591\n",
            "Epoch 197/1500\n",
            "4/4 [==============================] - 0s 12ms/step - loss: 0.0746 - accuracy: 0.9899 - val_loss: 0.1321 - val_accuracy: 0.9591\n",
            "Epoch 198/1500\n",
            "4/4 [==============================] - 0s 11ms/step - loss: 0.0744 - accuracy: 0.9899 - val_loss: 0.1317 - val_accuracy: 0.9591\n",
            "Epoch 199/1500\n",
            "4/4 [==============================] - 0s 10ms/step - loss: 0.0741 - accuracy: 0.9899 - val_loss: 0.1315 - val_accuracy: 0.9591\n",
            "Epoch 200/1500\n",
            "4/4 [==============================] - 0s 11ms/step - loss: 0.0739 - accuracy: 0.9899 - val_loss: 0.1311 - val_accuracy: 0.9591\n",
            "Epoch 201/1500\n",
            "4/4 [==============================] - 0s 12ms/step - loss: 0.0736 - accuracy: 0.9899 - val_loss: 0.1308 - val_accuracy: 0.9591\n",
            "Epoch 202/1500\n",
            "4/4 [==============================] - 0s 11ms/step - loss: 0.0734 - accuracy: 0.9899 - val_loss: 0.1306 - val_accuracy: 0.9591\n",
            "Epoch 203/1500\n",
            "4/4 [==============================] - 0s 12ms/step - loss: 0.0732 - accuracy: 0.9899 - val_loss: 0.1304 - val_accuracy: 0.9591\n",
            "Epoch 204/1500\n",
            "4/4 [==============================] - 0s 17ms/step - loss: 0.0729 - accuracy: 0.9899 - val_loss: 0.1303 - val_accuracy: 0.9591\n",
            "Epoch 205/1500\n",
            "4/4 [==============================] - 0s 11ms/step - loss: 0.0726 - accuracy: 0.9899 - val_loss: 0.1300 - val_accuracy: 0.9591\n",
            "Epoch 206/1500\n",
            "4/4 [==============================] - 0s 11ms/step - loss: 0.0724 - accuracy: 0.9899 - val_loss: 0.1298 - val_accuracy: 0.9591\n",
            "Epoch 207/1500\n",
            "4/4 [==============================] - 0s 11ms/step - loss: 0.0722 - accuracy: 0.9899 - val_loss: 0.1296 - val_accuracy: 0.9591\n",
            "Epoch 208/1500\n",
            "4/4 [==============================] - 0s 11ms/step - loss: 0.0719 - accuracy: 0.9899 - val_loss: 0.1291 - val_accuracy: 0.9591\n",
            "Epoch 209/1500\n",
            "4/4 [==============================] - 0s 12ms/step - loss: 0.0716 - accuracy: 0.9899 - val_loss: 0.1289 - val_accuracy: 0.9591\n",
            "Epoch 210/1500\n",
            "4/4 [==============================] - 0s 12ms/step - loss: 0.0714 - accuracy: 0.9899 - val_loss: 0.1287 - val_accuracy: 0.9591\n",
            "Epoch 211/1500\n",
            "4/4 [==============================] - 0s 17ms/step - loss: 0.0712 - accuracy: 0.9899 - val_loss: 0.1286 - val_accuracy: 0.9591\n",
            "Epoch 212/1500\n",
            "4/4 [==============================] - 0s 18ms/step - loss: 0.0710 - accuracy: 0.9899 - val_loss: 0.1284 - val_accuracy: 0.9591\n",
            "Epoch 213/1500\n",
            "4/4 [==============================] - 0s 12ms/step - loss: 0.0708 - accuracy: 0.9899 - val_loss: 0.1283 - val_accuracy: 0.9591\n",
            "Epoch 214/1500\n",
            "4/4 [==============================] - 0s 11ms/step - loss: 0.0706 - accuracy: 0.9899 - val_loss: 0.1279 - val_accuracy: 0.9591\n",
            "Epoch 215/1500\n",
            "4/4 [==============================] - 0s 10ms/step - loss: 0.0704 - accuracy: 0.9899 - val_loss: 0.1277 - val_accuracy: 0.9591\n",
            "Epoch 216/1500\n",
            "4/4 [==============================] - 0s 12ms/step - loss: 0.0702 - accuracy: 0.9899 - val_loss: 0.1275 - val_accuracy: 0.9591\n",
            "Epoch 217/1500\n",
            "4/4 [==============================] - 0s 14ms/step - loss: 0.0700 - accuracy: 0.9899 - val_loss: 0.1272 - val_accuracy: 0.9591\n",
            "Epoch 218/1500\n",
            "4/4 [==============================] - 0s 11ms/step - loss: 0.0698 - accuracy: 0.9899 - val_loss: 0.1270 - val_accuracy: 0.9591\n",
            "Epoch 219/1500\n",
            "4/4 [==============================] - 0s 11ms/step - loss: 0.0695 - accuracy: 0.9899 - val_loss: 0.1268 - val_accuracy: 0.9591\n",
            "Epoch 220/1500\n",
            "4/4 [==============================] - 0s 16ms/step - loss: 0.0693 - accuracy: 0.9899 - val_loss: 0.1267 - val_accuracy: 0.9591\n",
            "Epoch 221/1500\n",
            "4/4 [==============================] - 0s 16ms/step - loss: 0.0691 - accuracy: 0.9899 - val_loss: 0.1264 - val_accuracy: 0.9591\n",
            "Epoch 222/1500\n",
            "4/4 [==============================] - 0s 10ms/step - loss: 0.0689 - accuracy: 0.9899 - val_loss: 0.1263 - val_accuracy: 0.9591\n",
            "Epoch 223/1500\n",
            "4/4 [==============================] - 0s 11ms/step - loss: 0.0687 - accuracy: 0.9899 - val_loss: 0.1261 - val_accuracy: 0.9591\n",
            "Epoch 224/1500\n",
            "4/4 [==============================] - 0s 14ms/step - loss: 0.0685 - accuracy: 0.9899 - val_loss: 0.1259 - val_accuracy: 0.9591\n",
            "Epoch 225/1500\n",
            "4/4 [==============================] - 0s 12ms/step - loss: 0.0683 - accuracy: 0.9899 - val_loss: 0.1257 - val_accuracy: 0.9591\n",
            "Epoch 226/1500\n",
            "4/4 [==============================] - 0s 10ms/step - loss: 0.0681 - accuracy: 0.9899 - val_loss: 0.1254 - val_accuracy: 0.9591\n",
            "Epoch 227/1500\n",
            "4/4 [==============================] - 0s 10ms/step - loss: 0.0679 - accuracy: 0.9899 - val_loss: 0.1252 - val_accuracy: 0.9591\n",
            "Epoch 228/1500\n",
            "4/4 [==============================] - 0s 10ms/step - loss: 0.0676 - accuracy: 0.9899 - val_loss: 0.1251 - val_accuracy: 0.9591\n",
            "Epoch 229/1500\n",
            "4/4 [==============================] - 0s 10ms/step - loss: 0.0675 - accuracy: 0.9899 - val_loss: 0.1248 - val_accuracy: 0.9591\n",
            "Epoch 230/1500\n",
            "4/4 [==============================] - 0s 11ms/step - loss: 0.0673 - accuracy: 0.9899 - val_loss: 0.1247 - val_accuracy: 0.9591\n",
            "Epoch 231/1500\n",
            "4/4 [==============================] - 0s 10ms/step - loss: 0.0671 - accuracy: 0.9899 - val_loss: 0.1245 - val_accuracy: 0.9591\n",
            "Epoch 232/1500\n",
            "4/4 [==============================] - 0s 12ms/step - loss: 0.0669 - accuracy: 0.9899 - val_loss: 0.1243 - val_accuracy: 0.9591\n",
            "Epoch 233/1500\n",
            "4/4 [==============================] - 0s 12ms/step - loss: 0.0668 - accuracy: 0.9899 - val_loss: 0.1241 - val_accuracy: 0.9591\n",
            "Epoch 234/1500\n",
            "4/4 [==============================] - 0s 10ms/step - loss: 0.0666 - accuracy: 0.9899 - val_loss: 0.1240 - val_accuracy: 0.9591\n",
            "Epoch 235/1500\n",
            "4/4 [==============================] - 0s 14ms/step - loss: 0.0664 - accuracy: 0.9899 - val_loss: 0.1238 - val_accuracy: 0.9591\n",
            "Epoch 236/1500\n",
            "4/4 [==============================] - 0s 12ms/step - loss: 0.0662 - accuracy: 0.9899 - val_loss: 0.1237 - val_accuracy: 0.9591\n",
            "Epoch 237/1500\n",
            "4/4 [==============================] - 0s 13ms/step - loss: 0.0660 - accuracy: 0.9899 - val_loss: 0.1236 - val_accuracy: 0.9591\n",
            "Epoch 238/1500\n",
            "4/4 [==============================] - 0s 14ms/step - loss: 0.0658 - accuracy: 0.9899 - val_loss: 0.1236 - val_accuracy: 0.9591\n",
            "Epoch 239/1500\n",
            "4/4 [==============================] - 0s 15ms/step - loss: 0.0657 - accuracy: 0.9899 - val_loss: 0.1234 - val_accuracy: 0.9591\n",
            "Epoch 240/1500\n",
            "4/4 [==============================] - 0s 18ms/step - loss: 0.0655 - accuracy: 0.9899 - val_loss: 0.1232 - val_accuracy: 0.9591\n",
            "Epoch 241/1500\n",
            "4/4 [==============================] - 0s 18ms/step - loss: 0.0653 - accuracy: 0.9899 - val_loss: 0.1232 - val_accuracy: 0.9591\n",
            "Epoch 242/1500\n",
            "4/4 [==============================] - 0s 18ms/step - loss: 0.0652 - accuracy: 0.9899 - val_loss: 0.1231 - val_accuracy: 0.9591\n",
            "Epoch 243/1500\n",
            "4/4 [==============================] - 0s 12ms/step - loss: 0.0650 - accuracy: 0.9899 - val_loss: 0.1231 - val_accuracy: 0.9591\n",
            "Epoch 244/1500\n",
            "4/4 [==============================] - 0s 14ms/step - loss: 0.0649 - accuracy: 0.9899 - val_loss: 0.1226 - val_accuracy: 0.9591\n",
            "Epoch 245/1500\n",
            "4/4 [==============================] - 0s 12ms/step - loss: 0.0647 - accuracy: 0.9899 - val_loss: 0.1224 - val_accuracy: 0.9591\n",
            "Epoch 246/1500\n",
            "4/4 [==============================] - 0s 12ms/step - loss: 0.0646 - accuracy: 0.9899 - val_loss: 0.1222 - val_accuracy: 0.9591\n",
            "Epoch 247/1500\n",
            "4/4 [==============================] - 0s 16ms/step - loss: 0.0645 - accuracy: 0.9899 - val_loss: 0.1223 - val_accuracy: 0.9591\n",
            "Epoch 248/1500\n",
            "4/4 [==============================] - 0s 10ms/step - loss: 0.0643 - accuracy: 0.9899 - val_loss: 0.1218 - val_accuracy: 0.9591\n",
            "Epoch 249/1500\n",
            "4/4 [==============================] - 0s 10ms/step - loss: 0.0641 - accuracy: 0.9899 - val_loss: 0.1218 - val_accuracy: 0.9591\n",
            "Epoch 250/1500\n",
            "4/4 [==============================] - 0s 12ms/step - loss: 0.0640 - accuracy: 0.9899 - val_loss: 0.1216 - val_accuracy: 0.9591\n",
            "Epoch 251/1500\n",
            "4/4 [==============================] - 0s 10ms/step - loss: 0.0638 - accuracy: 0.9899 - val_loss: 0.1217 - val_accuracy: 0.9591\n",
            "Epoch 252/1500\n",
            "4/4 [==============================] - 0s 12ms/step - loss: 0.0636 - accuracy: 0.9899 - val_loss: 0.1216 - val_accuracy: 0.9591\n",
            "Epoch 253/1500\n",
            "4/4 [==============================] - 0s 11ms/step - loss: 0.0635 - accuracy: 0.9899 - val_loss: 0.1213 - val_accuracy: 0.9591\n",
            "Epoch 254/1500\n",
            "4/4 [==============================] - 0s 13ms/step - loss: 0.0633 - accuracy: 0.9899 - val_loss: 0.1212 - val_accuracy: 0.9591\n",
            "Epoch 255/1500\n",
            "4/4 [==============================] - 0s 19ms/step - loss: 0.0631 - accuracy: 0.9899 - val_loss: 0.1209 - val_accuracy: 0.9591\n",
            "Epoch 256/1500\n",
            "4/4 [==============================] - 0s 11ms/step - loss: 0.0630 - accuracy: 0.9899 - val_loss: 0.1208 - val_accuracy: 0.9591\n",
            "Epoch 257/1500\n",
            "4/4 [==============================] - 0s 12ms/step - loss: 0.0628 - accuracy: 0.9899 - val_loss: 0.1206 - val_accuracy: 0.9591\n",
            "Epoch 258/1500\n",
            "4/4 [==============================] - 0s 11ms/step - loss: 0.0627 - accuracy: 0.9899 - val_loss: 0.1204 - val_accuracy: 0.9591\n",
            "Epoch 259/1500\n",
            "4/4 [==============================] - 0s 12ms/step - loss: 0.0625 - accuracy: 0.9899 - val_loss: 0.1203 - val_accuracy: 0.9591\n",
            "Epoch 260/1500\n",
            "4/4 [==============================] - 0s 10ms/step - loss: 0.0624 - accuracy: 0.9899 - val_loss: 0.1202 - val_accuracy: 0.9591\n",
            "Epoch 261/1500\n",
            "4/4 [==============================] - 0s 20ms/step - loss: 0.0623 - accuracy: 0.9899 - val_loss: 0.1201 - val_accuracy: 0.9591\n",
            "Epoch 262/1500\n",
            "4/4 [==============================] - 0s 20ms/step - loss: 0.0621 - accuracy: 0.9899 - val_loss: 0.1199 - val_accuracy: 0.9591\n",
            "Epoch 263/1500\n",
            "4/4 [==============================] - 0s 22ms/step - loss: 0.0620 - accuracy: 0.9899 - val_loss: 0.1198 - val_accuracy: 0.9591\n",
            "Epoch 264/1500\n",
            "4/4 [==============================] - 0s 21ms/step - loss: 0.0619 - accuracy: 0.9899 - val_loss: 0.1196 - val_accuracy: 0.9591\n",
            "Epoch 265/1500\n",
            "4/4 [==============================] - 0s 14ms/step - loss: 0.0617 - accuracy: 0.9899 - val_loss: 0.1193 - val_accuracy: 0.9591\n",
            "Epoch 266/1500\n",
            "4/4 [==============================] - 0s 21ms/step - loss: 0.0616 - accuracy: 0.9899 - val_loss: 0.1192 - val_accuracy: 0.9591\n",
            "Epoch 267/1500\n",
            "4/4 [==============================] - 0s 22ms/step - loss: 0.0615 - accuracy: 0.9899 - val_loss: 0.1191 - val_accuracy: 0.9591\n",
            "Epoch 268/1500\n",
            "4/4 [==============================] - 0s 19ms/step - loss: 0.0613 - accuracy: 0.9899 - val_loss: 0.1189 - val_accuracy: 0.9591\n",
            "Epoch 269/1500\n",
            "4/4 [==============================] - 0s 21ms/step - loss: 0.0612 - accuracy: 0.9899 - val_loss: 0.1187 - val_accuracy: 0.9591\n",
            "Epoch 270/1500\n",
            "4/4 [==============================] - 0s 24ms/step - loss: 0.0611 - accuracy: 0.9899 - val_loss: 0.1187 - val_accuracy: 0.9591\n",
            "Epoch 271/1500\n",
            "4/4 [==============================] - 0s 31ms/step - loss: 0.0610 - accuracy: 0.9899 - val_loss: 0.1187 - val_accuracy: 0.9591\n",
            "Epoch 272/1500\n",
            "4/4 [==============================] - 0s 23ms/step - loss: 0.0609 - accuracy: 0.9899 - val_loss: 0.1184 - val_accuracy: 0.9591\n",
            "Epoch 273/1500\n",
            "4/4 [==============================] - 0s 22ms/step - loss: 0.0608 - accuracy: 0.9899 - val_loss: 0.1183 - val_accuracy: 0.9591\n",
            "Epoch 274/1500\n",
            "4/4 [==============================] - 0s 19ms/step - loss: 0.0607 - accuracy: 0.9899 - val_loss: 0.1182 - val_accuracy: 0.9591\n",
            "Epoch 275/1500\n",
            "4/4 [==============================] - 0s 25ms/step - loss: 0.0605 - accuracy: 0.9899 - val_loss: 0.1182 - val_accuracy: 0.9591\n",
            "Epoch 276/1500\n",
            "4/4 [==============================] - 0s 18ms/step - loss: 0.0604 - accuracy: 0.9899 - val_loss: 0.1181 - val_accuracy: 0.9591\n",
            "Epoch 277/1500\n",
            "4/4 [==============================] - 0s 21ms/step - loss: 0.0603 - accuracy: 0.9899 - val_loss: 0.1179 - val_accuracy: 0.9591\n",
            "Epoch 278/1500\n",
            "4/4 [==============================] - 0s 24ms/step - loss: 0.0601 - accuracy: 0.9899 - val_loss: 0.1179 - val_accuracy: 0.9591\n",
            "Epoch 279/1500\n",
            "4/4 [==============================] - 0s 16ms/step - loss: 0.0600 - accuracy: 0.9899 - val_loss: 0.1178 - val_accuracy: 0.9591\n",
            "Epoch 280/1500\n",
            "4/4 [==============================] - 0s 20ms/step - loss: 0.0599 - accuracy: 0.9899 - val_loss: 0.1176 - val_accuracy: 0.9591\n",
            "Epoch 281/1500\n",
            "4/4 [==============================] - 0s 18ms/step - loss: 0.0597 - accuracy: 0.9899 - val_loss: 0.1176 - val_accuracy: 0.9591\n",
            "Epoch 282/1500\n",
            "4/4 [==============================] - 0s 20ms/step - loss: 0.0596 - accuracy: 0.9899 - val_loss: 0.1171 - val_accuracy: 0.9591\n",
            "Epoch 283/1500\n",
            "4/4 [==============================] - 0s 22ms/step - loss: 0.0595 - accuracy: 0.9899 - val_loss: 0.1170 - val_accuracy: 0.9591\n",
            "Epoch 284/1500\n",
            "4/4 [==============================] - 0s 25ms/step - loss: 0.0594 - accuracy: 0.9899 - val_loss: 0.1169 - val_accuracy: 0.9591\n",
            "Epoch 285/1500\n",
            "4/4 [==============================] - 0s 17ms/step - loss: 0.0593 - accuracy: 0.9899 - val_loss: 0.1169 - val_accuracy: 0.9591\n",
            "Epoch 286/1500\n",
            "4/4 [==============================] - 0s 23ms/step - loss: 0.0592 - accuracy: 0.9899 - val_loss: 0.1168 - val_accuracy: 0.9591\n",
            "Epoch 287/1500\n",
            "4/4 [==============================] - 0s 17ms/step - loss: 0.0591 - accuracy: 0.9899 - val_loss: 0.1168 - val_accuracy: 0.9591\n",
            "Epoch 288/1500\n",
            "4/4 [==============================] - 0s 25ms/step - loss: 0.0590 - accuracy: 0.9899 - val_loss: 0.1167 - val_accuracy: 0.9591\n",
            "Epoch 289/1500\n",
            "4/4 [==============================] - 0s 19ms/step - loss: 0.0589 - accuracy: 0.9899 - val_loss: 0.1166 - val_accuracy: 0.9591\n",
            "Epoch 290/1500\n",
            "4/4 [==============================] - 0s 11ms/step - loss: 0.0588 - accuracy: 0.9899 - val_loss: 0.1164 - val_accuracy: 0.9591\n",
            "Epoch 291/1500\n",
            "4/4 [==============================] - 0s 13ms/step - loss: 0.0587 - accuracy: 0.9899 - val_loss: 0.1164 - val_accuracy: 0.9591\n",
            "Epoch 292/1500\n",
            "4/4 [==============================] - 0s 12ms/step - loss: 0.0586 - accuracy: 0.9899 - val_loss: 0.1163 - val_accuracy: 0.9591\n",
            "Epoch 293/1500\n",
            "4/4 [==============================] - 0s 12ms/step - loss: 0.0584 - accuracy: 0.9899 - val_loss: 0.1161 - val_accuracy: 0.9591\n",
            "Epoch 294/1500\n",
            "4/4 [==============================] - 0s 13ms/step - loss: 0.0583 - accuracy: 0.9899 - val_loss: 0.1160 - val_accuracy: 0.9591\n",
            "Epoch 295/1500\n",
            "4/4 [==============================] - 0s 14ms/step - loss: 0.0582 - accuracy: 0.9899 - val_loss: 0.1159 - val_accuracy: 0.9591\n",
            "Epoch 296/1500\n",
            "4/4 [==============================] - 0s 20ms/step - loss: 0.0581 - accuracy: 0.9899 - val_loss: 0.1158 - val_accuracy: 0.9591\n",
            "Epoch 297/1500\n",
            "4/4 [==============================] - 0s 19ms/step - loss: 0.0579 - accuracy: 0.9899 - val_loss: 0.1158 - val_accuracy: 0.9591\n",
            "Epoch 298/1500\n",
            "4/4 [==============================] - 0s 14ms/step - loss: 0.0578 - accuracy: 0.9899 - val_loss: 0.1157 - val_accuracy: 0.9591\n",
            "Epoch 299/1500\n",
            "4/4 [==============================] - 0s 11ms/step - loss: 0.0577 - accuracy: 0.9899 - val_loss: 0.1156 - val_accuracy: 0.9591\n",
            "Epoch 300/1500\n",
            "4/4 [==============================] - 0s 11ms/step - loss: 0.0576 - accuracy: 0.9899 - val_loss: 0.1156 - val_accuracy: 0.9591\n",
            "Epoch 301/1500\n",
            "4/4 [==============================] - 0s 13ms/step - loss: 0.0575 - accuracy: 0.9899 - val_loss: 0.1154 - val_accuracy: 0.9591\n",
            "Epoch 302/1500\n",
            "4/4 [==============================] - 0s 13ms/step - loss: 0.0574 - accuracy: 0.9899 - val_loss: 0.1154 - val_accuracy: 0.9591\n",
            "Epoch 303/1500\n",
            "4/4 [==============================] - 0s 13ms/step - loss: 0.0573 - accuracy: 0.9899 - val_loss: 0.1154 - val_accuracy: 0.9591\n",
            "Epoch 304/1500\n",
            "4/4 [==============================] - 0s 12ms/step - loss: 0.0572 - accuracy: 0.9899 - val_loss: 0.1151 - val_accuracy: 0.9591\n",
            "Epoch 305/1500\n",
            "4/4 [==============================] - 0s 19ms/step - loss: 0.0571 - accuracy: 0.9899 - val_loss: 0.1150 - val_accuracy: 0.9649\n",
            "Epoch 306/1500\n",
            "4/4 [==============================] - 0s 13ms/step - loss: 0.0570 - accuracy: 0.9899 - val_loss: 0.1150 - val_accuracy: 0.9591\n",
            "Epoch 307/1500\n",
            "4/4 [==============================] - 0s 16ms/step - loss: 0.0568 - accuracy: 0.9899 - val_loss: 0.1149 - val_accuracy: 0.9591\n",
            "Epoch 308/1500\n",
            "4/4 [==============================] - 0s 14ms/step - loss: 0.0567 - accuracy: 0.9899 - val_loss: 0.1148 - val_accuracy: 0.9591\n",
            "Epoch 309/1500\n",
            "4/4 [==============================] - 0s 14ms/step - loss: 0.0566 - accuracy: 0.9899 - val_loss: 0.1148 - val_accuracy: 0.9591\n",
            "Epoch 310/1500\n",
            "4/4 [==============================] - 0s 19ms/step - loss: 0.0565 - accuracy: 0.9899 - val_loss: 0.1147 - val_accuracy: 0.9591\n",
            "Epoch 311/1500\n",
            "4/4 [==============================] - 0s 14ms/step - loss: 0.0564 - accuracy: 0.9899 - val_loss: 0.1146 - val_accuracy: 0.9591\n",
            "Epoch 312/1500\n",
            "4/4 [==============================] - 0s 14ms/step - loss: 0.0563 - accuracy: 0.9899 - val_loss: 0.1145 - val_accuracy: 0.9591\n",
            "Epoch 313/1500\n",
            "4/4 [==============================] - 0s 14ms/step - loss: 0.0562 - accuracy: 0.9899 - val_loss: 0.1145 - val_accuracy: 0.9591\n",
            "Epoch 314/1500\n",
            "4/4 [==============================] - 0s 15ms/step - loss: 0.0561 - accuracy: 0.9899 - val_loss: 0.1144 - val_accuracy: 0.9591\n",
            "Epoch 315/1500\n",
            "4/4 [==============================] - 0s 13ms/step - loss: 0.0560 - accuracy: 0.9899 - val_loss: 0.1144 - val_accuracy: 0.9591\n",
            "Epoch 316/1500\n",
            "4/4 [==============================] - 0s 14ms/step - loss: 0.0559 - accuracy: 0.9899 - val_loss: 0.1143 - val_accuracy: 0.9591\n",
            "Epoch 317/1500\n",
            "4/4 [==============================] - 0s 13ms/step - loss: 0.0559 - accuracy: 0.9899 - val_loss: 0.1142 - val_accuracy: 0.9591\n",
            "Epoch 318/1500\n",
            "4/4 [==============================] - 0s 14ms/step - loss: 0.0558 - accuracy: 0.9899 - val_loss: 0.1139 - val_accuracy: 0.9591\n",
            "Epoch 319/1500\n",
            "4/4 [==============================] - 0s 14ms/step - loss: 0.0557 - accuracy: 0.9899 - val_loss: 0.1139 - val_accuracy: 0.9591\n",
            "Epoch 320/1500\n",
            "4/4 [==============================] - 0s 12ms/step - loss: 0.0556 - accuracy: 0.9899 - val_loss: 0.1139 - val_accuracy: 0.9591\n",
            "Epoch 321/1500\n",
            "4/4 [==============================] - 0s 10ms/step - loss: 0.0555 - accuracy: 0.9899 - val_loss: 0.1136 - val_accuracy: 0.9591\n",
            "Epoch 322/1500\n",
            "4/4 [==============================] - 0s 13ms/step - loss: 0.0554 - accuracy: 0.9899 - val_loss: 0.1135 - val_accuracy: 0.9591\n",
            "Epoch 323/1500\n",
            "4/4 [==============================] - 0s 10ms/step - loss: 0.0553 - accuracy: 0.9899 - val_loss: 0.1135 - val_accuracy: 0.9591\n",
            "Epoch 324/1500\n",
            "4/4 [==============================] - 0s 11ms/step - loss: 0.0552 - accuracy: 0.9899 - val_loss: 0.1133 - val_accuracy: 0.9591\n",
            "Epoch 325/1500\n",
            "4/4 [==============================] - 0s 11ms/step - loss: 0.0551 - accuracy: 0.9899 - val_loss: 0.1132 - val_accuracy: 0.9591\n",
            "Epoch 326/1500\n",
            "4/4 [==============================] - 0s 11ms/step - loss: 0.0550 - accuracy: 0.9899 - val_loss: 0.1129 - val_accuracy: 0.9591\n",
            "Epoch 327/1500\n",
            "4/4 [==============================] - 0s 13ms/step - loss: 0.0549 - accuracy: 0.9899 - val_loss: 0.1129 - val_accuracy: 0.9591\n",
            "Epoch 328/1500\n",
            "4/4 [==============================] - 0s 10ms/step - loss: 0.0548 - accuracy: 0.9899 - val_loss: 0.1127 - val_accuracy: 0.9591\n",
            "Epoch 329/1500\n",
            "4/4 [==============================] - 0s 11ms/step - loss: 0.0548 - accuracy: 0.9899 - val_loss: 0.1128 - val_accuracy: 0.9591\n",
            "Epoch 330/1500\n",
            "4/4 [==============================] - 0s 11ms/step - loss: 0.0547 - accuracy: 0.9899 - val_loss: 0.1127 - val_accuracy: 0.9591\n",
            "Epoch 331/1500\n",
            "4/4 [==============================] - 0s 11ms/step - loss: 0.0546 - accuracy: 0.9899 - val_loss: 0.1128 - val_accuracy: 0.9591\n",
            "Epoch 332/1500\n",
            "4/4 [==============================] - 0s 11ms/step - loss: 0.0545 - accuracy: 0.9899 - val_loss: 0.1126 - val_accuracy: 0.9591\n",
            "Epoch 333/1500\n",
            "4/4 [==============================] - 0s 11ms/step - loss: 0.0544 - accuracy: 0.9899 - val_loss: 0.1126 - val_accuracy: 0.9591\n",
            "Epoch 334/1500\n",
            "4/4 [==============================] - 0s 10ms/step - loss: 0.0543 - accuracy: 0.9899 - val_loss: 0.1125 - val_accuracy: 0.9591\n",
            "Epoch 335/1500\n",
            "4/4 [==============================] - 0s 17ms/step - loss: 0.0542 - accuracy: 0.9899 - val_loss: 0.1126 - val_accuracy: 0.9591\n",
            "Epoch 336/1500\n",
            "4/4 [==============================] - 0s 17ms/step - loss: 0.0542 - accuracy: 0.9899 - val_loss: 0.1123 - val_accuracy: 0.9591\n",
            "Epoch 337/1500\n",
            "4/4 [==============================] - 0s 11ms/step - loss: 0.0541 - accuracy: 0.9899 - val_loss: 0.1122 - val_accuracy: 0.9591\n",
            "Epoch 338/1500\n",
            "4/4 [==============================] - 0s 19ms/step - loss: 0.0540 - accuracy: 0.9899 - val_loss: 0.1121 - val_accuracy: 0.9591\n",
            "Epoch 339/1500\n",
            "4/4 [==============================] - 0s 14ms/step - loss: 0.0539 - accuracy: 0.9899 - val_loss: 0.1121 - val_accuracy: 0.9591\n",
            "Epoch 340/1500\n",
            "4/4 [==============================] - 0s 18ms/step - loss: 0.0538 - accuracy: 0.9899 - val_loss: 0.1121 - val_accuracy: 0.9591\n",
            "Epoch 341/1500\n",
            "4/4 [==============================] - 0s 13ms/step - loss: 0.0537 - accuracy: 0.9899 - val_loss: 0.1120 - val_accuracy: 0.9591\n",
            "Epoch 342/1500\n",
            "4/4 [==============================] - 0s 12ms/step - loss: 0.0537 - accuracy: 0.9899 - val_loss: 0.1120 - val_accuracy: 0.9591\n",
            "Epoch 343/1500\n",
            "4/4 [==============================] - 0s 18ms/step - loss: 0.0536 - accuracy: 0.9899 - val_loss: 0.1119 - val_accuracy: 0.9591\n",
            "Epoch 344/1500\n",
            "4/4 [==============================] - 0s 14ms/step - loss: 0.0535 - accuracy: 0.9899 - val_loss: 0.1118 - val_accuracy: 0.9591\n",
            "Epoch 345/1500\n",
            "4/4 [==============================] - 0s 12ms/step - loss: 0.0534 - accuracy: 0.9874 - val_loss: 0.1118 - val_accuracy: 0.9591\n",
            "Epoch 346/1500\n",
            "4/4 [==============================] - 0s 13ms/step - loss: 0.0533 - accuracy: 0.9874 - val_loss: 0.1117 - val_accuracy: 0.9591\n",
            "Epoch 347/1500\n",
            "4/4 [==============================] - 0s 16ms/step - loss: 0.0532 - accuracy: 0.9874 - val_loss: 0.1117 - val_accuracy: 0.9591\n",
            "Epoch 348/1500\n",
            "4/4 [==============================] - 0s 19ms/step - loss: 0.0532 - accuracy: 0.9874 - val_loss: 0.1118 - val_accuracy: 0.9591\n",
            "Epoch 349/1500\n",
            "4/4 [==============================] - 0s 13ms/step - loss: 0.0531 - accuracy: 0.9874 - val_loss: 0.1117 - val_accuracy: 0.9591\n",
            "Epoch 350/1500\n",
            "4/4 [==============================] - 0s 18ms/step - loss: 0.0530 - accuracy: 0.9874 - val_loss: 0.1116 - val_accuracy: 0.9591\n",
            "Epoch 351/1500\n",
            "4/4 [==============================] - 0s 12ms/step - loss: 0.0529 - accuracy: 0.9874 - val_loss: 0.1116 - val_accuracy: 0.9591\n",
            "Epoch 352/1500\n",
            "4/4 [==============================] - 0s 16ms/step - loss: 0.0528 - accuracy: 0.9874 - val_loss: 0.1115 - val_accuracy: 0.9591\n",
            "Epoch 353/1500\n",
            "4/4 [==============================] - 0s 17ms/step - loss: 0.0528 - accuracy: 0.9874 - val_loss: 0.1114 - val_accuracy: 0.9591\n",
            "Epoch 354/1500\n",
            "4/4 [==============================] - 0s 11ms/step - loss: 0.0527 - accuracy: 0.9874 - val_loss: 0.1114 - val_accuracy: 0.9591\n",
            "Epoch 355/1500\n",
            "4/4 [==============================] - 0s 13ms/step - loss: 0.0526 - accuracy: 0.9874 - val_loss: 0.1113 - val_accuracy: 0.9591\n",
            "Epoch 356/1500\n",
            "4/4 [==============================] - 0s 16ms/step - loss: 0.0525 - accuracy: 0.9874 - val_loss: 0.1114 - val_accuracy: 0.9591\n",
            "Epoch 357/1500\n",
            "4/4 [==============================] - 0s 13ms/step - loss: 0.0524 - accuracy: 0.9874 - val_loss: 0.1114 - val_accuracy: 0.9591\n",
            "Epoch 358/1500\n",
            "4/4 [==============================] - 0s 13ms/step - loss: 0.0524 - accuracy: 0.9874 - val_loss: 0.1113 - val_accuracy: 0.9591\n",
            "Epoch 359/1500\n",
            "4/4 [==============================] - 0s 13ms/step - loss: 0.0523 - accuracy: 0.9874 - val_loss: 0.1114 - val_accuracy: 0.9591\n",
            "Epoch 360/1500\n",
            "4/4 [==============================] - 0s 13ms/step - loss: 0.0522 - accuracy: 0.9874 - val_loss: 0.1112 - val_accuracy: 0.9591\n",
            "Epoch 361/1500\n",
            "4/4 [==============================] - 0s 14ms/step - loss: 0.0521 - accuracy: 0.9874 - val_loss: 0.1111 - val_accuracy: 0.9591\n",
            "Epoch 362/1500\n",
            "4/4 [==============================] - 0s 14ms/step - loss: 0.0520 - accuracy: 0.9874 - val_loss: 0.1111 - val_accuracy: 0.9591\n",
            "Epoch 363/1500\n",
            "4/4 [==============================] - 0s 19ms/step - loss: 0.0520 - accuracy: 0.9874 - val_loss: 0.1110 - val_accuracy: 0.9591\n",
            "Epoch 364/1500\n",
            "4/4 [==============================] - 0s 12ms/step - loss: 0.0519 - accuracy: 0.9874 - val_loss: 0.1110 - val_accuracy: 0.9591\n",
            "Epoch 365/1500\n",
            "4/4 [==============================] - 0s 13ms/step - loss: 0.0518 - accuracy: 0.9874 - val_loss: 0.1109 - val_accuracy: 0.9591\n",
            "Epoch 366/1500\n",
            "4/4 [==============================] - 0s 15ms/step - loss: 0.0518 - accuracy: 0.9874 - val_loss: 0.1108 - val_accuracy: 0.9591\n",
            "Epoch 367/1500\n",
            "4/4 [==============================] - 0s 13ms/step - loss: 0.0517 - accuracy: 0.9874 - val_loss: 0.1107 - val_accuracy: 0.9591\n",
            "Epoch 368/1500\n",
            "4/4 [==============================] - 0s 12ms/step - loss: 0.0516 - accuracy: 0.9874 - val_loss: 0.1107 - val_accuracy: 0.9591\n",
            "Epoch 369/1500\n",
            "4/4 [==============================] - 0s 12ms/step - loss: 0.0515 - accuracy: 0.9874 - val_loss: 0.1107 - val_accuracy: 0.9591\n",
            "Epoch 370/1500\n",
            "4/4 [==============================] - 0s 15ms/step - loss: 0.0515 - accuracy: 0.9874 - val_loss: 0.1108 - val_accuracy: 0.9591\n",
            "Epoch 371/1500\n",
            "4/4 [==============================] - 0s 12ms/step - loss: 0.0514 - accuracy: 0.9874 - val_loss: 0.1108 - val_accuracy: 0.9591\n",
            "Epoch 372/1500\n",
            "4/4 [==============================] - 0s 17ms/step - loss: 0.0514 - accuracy: 0.9874 - val_loss: 0.1106 - val_accuracy: 0.9591\n",
            "Epoch 373/1500\n",
            "4/4 [==============================] - 0s 11ms/step - loss: 0.0513 - accuracy: 0.9874 - val_loss: 0.1106 - val_accuracy: 0.9591\n",
            "Epoch 374/1500\n",
            "4/4 [==============================] - 0s 16ms/step - loss: 0.0512 - accuracy: 0.9874 - val_loss: 0.1105 - val_accuracy: 0.9591\n",
            "Epoch 375/1500\n",
            "4/4 [==============================] - 0s 12ms/step - loss: 0.0511 - accuracy: 0.9874 - val_loss: 0.1104 - val_accuracy: 0.9591\n",
            "Epoch 376/1500\n",
            "4/4 [==============================] - 0s 18ms/step - loss: 0.0511 - accuracy: 0.9874 - val_loss: 0.1104 - val_accuracy: 0.9591\n",
            "Epoch 377/1500\n",
            "4/4 [==============================] - 0s 12ms/step - loss: 0.0510 - accuracy: 0.9874 - val_loss: 0.1105 - val_accuracy: 0.9591\n",
            "Epoch 378/1500\n",
            "4/4 [==============================] - 0s 20ms/step - loss: 0.0509 - accuracy: 0.9874 - val_loss: 0.1102 - val_accuracy: 0.9591\n",
            "Epoch 379/1500\n",
            "4/4 [==============================] - 0s 20ms/step - loss: 0.0509 - accuracy: 0.9874 - val_loss: 0.1101 - val_accuracy: 0.9591\n",
            "Epoch 380/1500\n",
            "4/4 [==============================] - 0s 19ms/step - loss: 0.0508 - accuracy: 0.9874 - val_loss: 0.1101 - val_accuracy: 0.9591\n",
            "Epoch 381/1500\n",
            "4/4 [==============================] - 0s 16ms/step - loss: 0.0508 - accuracy: 0.9874 - val_loss: 0.1100 - val_accuracy: 0.9591\n",
            "Epoch 382/1500\n",
            "4/4 [==============================] - 0s 14ms/step - loss: 0.0507 - accuracy: 0.9874 - val_loss: 0.1099 - val_accuracy: 0.9591\n",
            "Epoch 383/1500\n",
            "4/4 [==============================] - 0s 20ms/step - loss: 0.0506 - accuracy: 0.9874 - val_loss: 0.1097 - val_accuracy: 0.9591\n",
            "Epoch 384/1500\n",
            "4/4 [==============================] - 0s 11ms/step - loss: 0.0506 - accuracy: 0.9874 - val_loss: 0.1098 - val_accuracy: 0.9591\n",
            "Epoch 385/1500\n",
            "4/4 [==============================] - 0s 11ms/step - loss: 0.0505 - accuracy: 0.9874 - val_loss: 0.1097 - val_accuracy: 0.9591\n",
            "Epoch 386/1500\n",
            "4/4 [==============================] - 0s 11ms/step - loss: 0.0504 - accuracy: 0.9874 - val_loss: 0.1095 - val_accuracy: 0.9591\n",
            "Epoch 387/1500\n",
            "4/4 [==============================] - 0s 13ms/step - loss: 0.0504 - accuracy: 0.9874 - val_loss: 0.1095 - val_accuracy: 0.9591\n",
            "Epoch 388/1500\n",
            "4/4 [==============================] - 0s 19ms/step - loss: 0.0503 - accuracy: 0.9874 - val_loss: 0.1095 - val_accuracy: 0.9591\n",
            "Epoch 389/1500\n",
            "4/4 [==============================] - 0s 13ms/step - loss: 0.0503 - accuracy: 0.9874 - val_loss: 0.1094 - val_accuracy: 0.9591\n",
            "Epoch 390/1500\n",
            "4/4 [==============================] - 0s 12ms/step - loss: 0.0502 - accuracy: 0.9874 - val_loss: 0.1093 - val_accuracy: 0.9591\n",
            "Epoch 391/1500\n",
            "4/4 [==============================] - 0s 13ms/step - loss: 0.0501 - accuracy: 0.9874 - val_loss: 0.1093 - val_accuracy: 0.9591\n",
            "Epoch 392/1500\n",
            "4/4 [==============================] - 0s 14ms/step - loss: 0.0500 - accuracy: 0.9874 - val_loss: 0.1092 - val_accuracy: 0.9591\n",
            "Epoch 393/1500\n",
            "4/4 [==============================] - 0s 13ms/step - loss: 0.0500 - accuracy: 0.9874 - val_loss: 0.1092 - val_accuracy: 0.9591\n",
            "Epoch 394/1500\n",
            "4/4 [==============================] - 0s 14ms/step - loss: 0.0499 - accuracy: 0.9874 - val_loss: 0.1092 - val_accuracy: 0.9591\n",
            "Epoch 395/1500\n",
            "4/4 [==============================] - 0s 14ms/step - loss: 0.0499 - accuracy: 0.9874 - val_loss: 0.1092 - val_accuracy: 0.9591\n",
            "Epoch 396/1500\n",
            "4/4 [==============================] - 0s 19ms/step - loss: 0.0498 - accuracy: 0.9874 - val_loss: 0.1090 - val_accuracy: 0.9591\n",
            "Epoch 397/1500\n",
            "4/4 [==============================] - 0s 14ms/step - loss: 0.0497 - accuracy: 0.9874 - val_loss: 0.1090 - val_accuracy: 0.9591\n",
            "Epoch 398/1500\n",
            "4/4 [==============================] - 0s 14ms/step - loss: 0.0497 - accuracy: 0.9874 - val_loss: 0.1090 - val_accuracy: 0.9591\n",
            "Epoch 399/1500\n",
            "4/4 [==============================] - 0s 13ms/step - loss: 0.0496 - accuracy: 0.9874 - val_loss: 0.1089 - val_accuracy: 0.9591\n",
            "Epoch 400/1500\n",
            "4/4 [==============================] - 0s 15ms/step - loss: 0.0495 - accuracy: 0.9874 - val_loss: 0.1088 - val_accuracy: 0.9591\n",
            "Epoch 401/1500\n",
            "4/4 [==============================] - 0s 14ms/step - loss: 0.0495 - accuracy: 0.9874 - val_loss: 0.1088 - val_accuracy: 0.9591\n",
            "Epoch 402/1500\n",
            "4/4 [==============================] - 0s 17ms/step - loss: 0.0494 - accuracy: 0.9874 - val_loss: 0.1089 - val_accuracy: 0.9591\n",
            "Epoch 403/1500\n",
            "4/4 [==============================] - 0s 13ms/step - loss: 0.0494 - accuracy: 0.9874 - val_loss: 0.1090 - val_accuracy: 0.9591\n",
            "Epoch 404/1500\n",
            "4/4 [==============================] - 0s 19ms/step - loss: 0.0493 - accuracy: 0.9874 - val_loss: 0.1091 - val_accuracy: 0.9591\n",
            "Epoch 405/1500\n",
            "4/4 [==============================] - 0s 13ms/step - loss: 0.0492 - accuracy: 0.9874 - val_loss: 0.1091 - val_accuracy: 0.9591\n",
            "Epoch 406/1500\n",
            "4/4 [==============================] - 0s 13ms/step - loss: 0.0492 - accuracy: 0.9874 - val_loss: 0.1090 - val_accuracy: 0.9591\n",
            "Epoch 407/1500\n",
            "4/4 [==============================] - 0s 14ms/step - loss: 0.0491 - accuracy: 0.9874 - val_loss: 0.1089 - val_accuracy: 0.9591\n",
            "Epoch 408/1500\n",
            "4/4 [==============================] - 0s 19ms/step - loss: 0.0490 - accuracy: 0.9874 - val_loss: 0.1088 - val_accuracy: 0.9591\n",
            "Epoch 409/1500\n",
            "4/4 [==============================] - 0s 17ms/step - loss: 0.0490 - accuracy: 0.9874 - val_loss: 0.1087 - val_accuracy: 0.9591\n",
            "Epoch 410/1500\n",
            "4/4 [==============================] - 0s 13ms/step - loss: 0.0489 - accuracy: 0.9874 - val_loss: 0.1085 - val_accuracy: 0.9591\n",
            "Epoch 411/1500\n",
            "4/4 [==============================] - 0s 16ms/step - loss: 0.0489 - accuracy: 0.9874 - val_loss: 0.1084 - val_accuracy: 0.9591\n",
            "Epoch 412/1500\n",
            "4/4 [==============================] - 0s 14ms/step - loss: 0.0488 - accuracy: 0.9874 - val_loss: 0.1084 - val_accuracy: 0.9591\n",
            "Epoch 413/1500\n",
            "4/4 [==============================] - 0s 14ms/step - loss: 0.0487 - accuracy: 0.9874 - val_loss: 0.1083 - val_accuracy: 0.9591\n",
            "Epoch 414/1500\n",
            "4/4 [==============================] - 0s 13ms/step - loss: 0.0486 - accuracy: 0.9874 - val_loss: 0.1083 - val_accuracy: 0.9591\n",
            "Epoch 415/1500\n",
            "4/4 [==============================] - 0s 13ms/step - loss: 0.0486 - accuracy: 0.9874 - val_loss: 0.1082 - val_accuracy: 0.9591\n",
            "Epoch 416/1500\n",
            "4/4 [==============================] - 0s 14ms/step - loss: 0.0485 - accuracy: 0.9874 - val_loss: 0.1081 - val_accuracy: 0.9591\n",
            "Epoch 417/1500\n",
            "4/4 [==============================] - 0s 16ms/step - loss: 0.0485 - accuracy: 0.9874 - val_loss: 0.1080 - val_accuracy: 0.9591\n",
            "Epoch 418/1500\n",
            "4/4 [==============================] - 0s 13ms/step - loss: 0.0484 - accuracy: 0.9874 - val_loss: 0.1080 - val_accuracy: 0.9591\n",
            "Epoch 419/1500\n",
            "4/4 [==============================] - 0s 12ms/step - loss: 0.0483 - accuracy: 0.9874 - val_loss: 0.1080 - val_accuracy: 0.9591\n",
            "Epoch 420/1500\n",
            "4/4 [==============================] - 0s 19ms/step - loss: 0.0483 - accuracy: 0.9874 - val_loss: 0.1081 - val_accuracy: 0.9591\n",
            "Epoch 421/1500\n",
            "4/4 [==============================] - 0s 20ms/step - loss: 0.0482 - accuracy: 0.9874 - val_loss: 0.1080 - val_accuracy: 0.9591\n",
            "Epoch 422/1500\n",
            "4/4 [==============================] - 0s 22ms/step - loss: 0.0482 - accuracy: 0.9874 - val_loss: 0.1080 - val_accuracy: 0.9591\n",
            "Epoch 423/1500\n",
            "4/4 [==============================] - 0s 12ms/step - loss: 0.0481 - accuracy: 0.9874 - val_loss: 0.1081 - val_accuracy: 0.9591\n",
            "Epoch 424/1500\n",
            "4/4 [==============================] - 0s 13ms/step - loss: 0.0481 - accuracy: 0.9874 - val_loss: 0.1080 - val_accuracy: 0.9591\n",
            "Epoch 425/1500\n",
            "4/4 [==============================] - 0s 13ms/step - loss: 0.0480 - accuracy: 0.9874 - val_loss: 0.1077 - val_accuracy: 0.9532\n",
            "Epoch 426/1500\n",
            "4/4 [==============================] - 0s 13ms/step - loss: 0.0480 - accuracy: 0.9899 - val_loss: 0.1076 - val_accuracy: 0.9532\n",
            "Epoch 427/1500\n",
            "4/4 [==============================] - 0s 11ms/step - loss: 0.0479 - accuracy: 0.9899 - val_loss: 0.1079 - val_accuracy: 0.9591\n",
            "Epoch 428/1500\n",
            "4/4 [==============================] - 0s 12ms/step - loss: 0.0478 - accuracy: 0.9899 - val_loss: 0.1079 - val_accuracy: 0.9591\n",
            "Epoch 429/1500\n",
            "4/4 [==============================] - 0s 12ms/step - loss: 0.0478 - accuracy: 0.9899 - val_loss: 0.1078 - val_accuracy: 0.9591\n",
            "Epoch 430/1500\n",
            "4/4 [==============================] - 0s 20ms/step - loss: 0.0477 - accuracy: 0.9899 - val_loss: 0.1078 - val_accuracy: 0.9532\n",
            "Epoch 431/1500\n",
            "4/4 [==============================] - 0s 18ms/step - loss: 0.0476 - accuracy: 0.9899 - val_loss: 0.1078 - val_accuracy: 0.9532\n",
            "Epoch 432/1500\n",
            "4/4 [==============================] - 0s 14ms/step - loss: 0.0476 - accuracy: 0.9899 - val_loss: 0.1077 - val_accuracy: 0.9532\n",
            "Epoch 433/1500\n",
            "4/4 [==============================] - 0s 19ms/step - loss: 0.0475 - accuracy: 0.9899 - val_loss: 0.1077 - val_accuracy: 0.9532\n",
            "Epoch 434/1500\n",
            "4/4 [==============================] - 0s 16ms/step - loss: 0.0475 - accuracy: 0.9899 - val_loss: 0.1077 - val_accuracy: 0.9532\n",
            "Epoch 435/1500\n",
            "4/4 [==============================] - 0s 21ms/step - loss: 0.0474 - accuracy: 0.9899 - val_loss: 0.1075 - val_accuracy: 0.9532\n",
            "Epoch 436/1500\n",
            "4/4 [==============================] - 0s 22ms/step - loss: 0.0474 - accuracy: 0.9899 - val_loss: 0.1073 - val_accuracy: 0.9532\n",
            "Epoch 437/1500\n",
            "4/4 [==============================] - 0s 15ms/step - loss: 0.0473 - accuracy: 0.9899 - val_loss: 0.1072 - val_accuracy: 0.9532\n",
            "Epoch 438/1500\n",
            "4/4 [==============================] - 0s 16ms/step - loss: 0.0473 - accuracy: 0.9899 - val_loss: 0.1073 - val_accuracy: 0.9532\n",
            "Epoch 439/1500\n",
            "4/4 [==============================] - 0s 13ms/step - loss: 0.0472 - accuracy: 0.9899 - val_loss: 0.1073 - val_accuracy: 0.9532\n",
            "Epoch 440/1500\n",
            "4/4 [==============================] - 0s 14ms/step - loss: 0.0472 - accuracy: 0.9899 - val_loss: 0.1073 - val_accuracy: 0.9532\n",
            "Epoch 441/1500\n",
            "4/4 [==============================] - 0s 14ms/step - loss: 0.0471 - accuracy: 0.9899 - val_loss: 0.1072 - val_accuracy: 0.9532\n",
            "Epoch 442/1500\n",
            "4/4 [==============================] - 0s 19ms/step - loss: 0.0471 - accuracy: 0.9899 - val_loss: 0.1073 - val_accuracy: 0.9532\n",
            "Epoch 443/1500\n",
            "4/4 [==============================] - 0s 15ms/step - loss: 0.0470 - accuracy: 0.9899 - val_loss: 0.1074 - val_accuracy: 0.9532\n",
            "Epoch 444/1500\n",
            "4/4 [==============================] - 0s 18ms/step - loss: 0.0470 - accuracy: 0.9899 - val_loss: 0.1073 - val_accuracy: 0.9532\n",
            "Epoch 445/1500\n",
            "4/4 [==============================] - 0s 14ms/step - loss: 0.0469 - accuracy: 0.9899 - val_loss: 0.1073 - val_accuracy: 0.9532\n",
            "Epoch 446/1500\n",
            "4/4 [==============================] - 0s 16ms/step - loss: 0.0469 - accuracy: 0.9899 - val_loss: 0.1072 - val_accuracy: 0.9532\n",
            "Epoch 447/1500\n",
            "4/4 [==============================] - 0s 14ms/step - loss: 0.0468 - accuracy: 0.9899 - val_loss: 0.1072 - val_accuracy: 0.9532\n",
            "Epoch 448/1500\n",
            "4/4 [==============================] - 0s 13ms/step - loss: 0.0468 - accuracy: 0.9899 - val_loss: 0.1072 - val_accuracy: 0.9532\n",
            "Epoch 449/1500\n",
            "4/4 [==============================] - 0s 17ms/step - loss: 0.0467 - accuracy: 0.9874 - val_loss: 0.1070 - val_accuracy: 0.9532\n",
            "Epoch 450/1500\n",
            "4/4 [==============================] - 0s 14ms/step - loss: 0.0466 - accuracy: 0.9874 - val_loss: 0.1070 - val_accuracy: 0.9532\n",
            "Epoch 451/1500\n",
            "4/4 [==============================] - 0s 15ms/step - loss: 0.0466 - accuracy: 0.9874 - val_loss: 0.1071 - val_accuracy: 0.9591\n",
            "Epoch 452/1500\n",
            "4/4 [==============================] - 0s 20ms/step - loss: 0.0465 - accuracy: 0.9874 - val_loss: 0.1071 - val_accuracy: 0.9591\n",
            "Epoch 453/1500\n",
            "4/4 [==============================] - 0s 16ms/step - loss: 0.0464 - accuracy: 0.9874 - val_loss: 0.1071 - val_accuracy: 0.9591\n",
            "Epoch 454/1500\n",
            "4/4 [==============================] - 0s 14ms/step - loss: 0.0464 - accuracy: 0.9874 - val_loss: 0.1069 - val_accuracy: 0.9591\n",
            "Epoch 455/1500\n",
            "4/4 [==============================] - 0s 21ms/step - loss: 0.0464 - accuracy: 0.9874 - val_loss: 0.1067 - val_accuracy: 0.9591\n",
            "Epoch 456/1500\n",
            "4/4 [==============================] - 0s 14ms/step - loss: 0.0463 - accuracy: 0.9874 - val_loss: 0.1069 - val_accuracy: 0.9591\n",
            "Epoch 457/1500\n",
            "4/4 [==============================] - 0s 14ms/step - loss: 0.0463 - accuracy: 0.9874 - val_loss: 0.1069 - val_accuracy: 0.9591\n",
            "Epoch 458/1500\n",
            "4/4 [==============================] - 0s 15ms/step - loss: 0.0462 - accuracy: 0.9874 - val_loss: 0.1067 - val_accuracy: 0.9591\n",
            "Epoch 459/1500\n",
            "4/4 [==============================] - 0s 19ms/step - loss: 0.0462 - accuracy: 0.9874 - val_loss: 0.1067 - val_accuracy: 0.9591\n",
            "Epoch 460/1500\n",
            "4/4 [==============================] - 0s 14ms/step - loss: 0.0461 - accuracy: 0.9874 - val_loss: 0.1067 - val_accuracy: 0.9591\n",
            "Epoch 461/1500\n",
            "4/4 [==============================] - 0s 13ms/step - loss: 0.0461 - accuracy: 0.9874 - val_loss: 0.1067 - val_accuracy: 0.9591\n",
            "Epoch 462/1500\n",
            "4/4 [==============================] - 0s 14ms/step - loss: 0.0460 - accuracy: 0.9874 - val_loss: 0.1066 - val_accuracy: 0.9591\n",
            "Epoch 463/1500\n",
            "4/4 [==============================] - 0s 19ms/step - loss: 0.0460 - accuracy: 0.9874 - val_loss: 0.1065 - val_accuracy: 0.9591\n",
            "Epoch 464/1500\n",
            "4/4 [==============================] - 0s 13ms/step - loss: 0.0459 - accuracy: 0.9874 - val_loss: 0.1065 - val_accuracy: 0.9591\n",
            "Epoch 465/1500\n",
            "4/4 [==============================] - 0s 13ms/step - loss: 0.0459 - accuracy: 0.9874 - val_loss: 0.1065 - val_accuracy: 0.9591\n",
            "Epoch 466/1500\n",
            "4/4 [==============================] - 0s 14ms/step - loss: 0.0459 - accuracy: 0.9874 - val_loss: 0.1063 - val_accuracy: 0.9532\n",
            "Epoch 467/1500\n",
            "4/4 [==============================] - 0s 16ms/step - loss: 0.0458 - accuracy: 0.9899 - val_loss: 0.1064 - val_accuracy: 0.9532\n",
            "Epoch 468/1500\n",
            "4/4 [==============================] - 0s 14ms/step - loss: 0.0457 - accuracy: 0.9899 - val_loss: 0.1063 - val_accuracy: 0.9532\n",
            "Epoch 469/1500\n",
            "4/4 [==============================] - 0s 12ms/step - loss: 0.0457 - accuracy: 0.9899 - val_loss: 0.1063 - val_accuracy: 0.9532\n",
            "Epoch 470/1500\n",
            "4/4 [==============================] - 0s 13ms/step - loss: 0.0456 - accuracy: 0.9899 - val_loss: 0.1063 - val_accuracy: 0.9532\n",
            "Epoch 471/1500\n",
            "4/4 [==============================] - 0s 14ms/step - loss: 0.0456 - accuracy: 0.9899 - val_loss: 0.1063 - val_accuracy: 0.9532\n",
            "Epoch 472/1500\n",
            "4/4 [==============================] - 0s 21ms/step - loss: 0.0455 - accuracy: 0.9899 - val_loss: 0.1063 - val_accuracy: 0.9532\n",
            "Epoch 473/1500\n",
            "4/4 [==============================] - 0s 30ms/step - loss: 0.0455 - accuracy: 0.9899 - val_loss: 0.1061 - val_accuracy: 0.9532\n",
            "Epoch 474/1500\n",
            "4/4 [==============================] - 0s 21ms/step - loss: 0.0454 - accuracy: 0.9899 - val_loss: 0.1060 - val_accuracy: 0.9532\n",
            "Epoch 475/1500\n",
            "4/4 [==============================] - 0s 22ms/step - loss: 0.0454 - accuracy: 0.9899 - val_loss: 0.1060 - val_accuracy: 0.9532\n",
            "Epoch 476/1500\n",
            "4/4 [==============================] - 0s 23ms/step - loss: 0.0453 - accuracy: 0.9899 - val_loss: 0.1059 - val_accuracy: 0.9532\n",
            "Epoch 477/1500\n",
            "4/4 [==============================] - 0s 20ms/step - loss: 0.0453 - accuracy: 0.9899 - val_loss: 0.1059 - val_accuracy: 0.9532\n",
            "Epoch 478/1500\n",
            "4/4 [==============================] - 0s 20ms/step - loss: 0.0452 - accuracy: 0.9899 - val_loss: 0.1061 - val_accuracy: 0.9532\n",
            "Epoch 479/1500\n",
            "4/4 [==============================] - 0s 17ms/step - loss: 0.0452 - accuracy: 0.9899 - val_loss: 0.1060 - val_accuracy: 0.9532\n",
            "Epoch 480/1500\n",
            "4/4 [==============================] - 0s 23ms/step - loss: 0.0451 - accuracy: 0.9899 - val_loss: 0.1060 - val_accuracy: 0.9532\n",
            "Epoch 481/1500\n",
            "4/4 [==============================] - 0s 23ms/step - loss: 0.0451 - accuracy: 0.9899 - val_loss: 0.1060 - val_accuracy: 0.9532\n",
            "Epoch 482/1500\n",
            "4/4 [==============================] - 0s 21ms/step - loss: 0.0450 - accuracy: 0.9899 - val_loss: 0.1060 - val_accuracy: 0.9532\n",
            "Epoch 483/1500\n",
            "4/4 [==============================] - 0s 20ms/step - loss: 0.0450 - accuracy: 0.9899 - val_loss: 0.1059 - val_accuracy: 0.9532\n",
            "Epoch 484/1500\n",
            "4/4 [==============================] - 0s 24ms/step - loss: 0.0449 - accuracy: 0.9899 - val_loss: 0.1061 - val_accuracy: 0.9532\n",
            "Epoch 485/1500\n",
            "4/4 [==============================] - 0s 19ms/step - loss: 0.0449 - accuracy: 0.9899 - val_loss: 0.1061 - val_accuracy: 0.9532\n",
            "Epoch 486/1500\n",
            "4/4 [==============================] - 0s 23ms/step - loss: 0.0449 - accuracy: 0.9899 - val_loss: 0.1061 - val_accuracy: 0.9532\n",
            "Epoch 487/1500\n",
            "4/4 [==============================] - 0s 24ms/step - loss: 0.0448 - accuracy: 0.9899 - val_loss: 0.1061 - val_accuracy: 0.9532\n",
            "Epoch 488/1500\n",
            "4/4 [==============================] - 0s 19ms/step - loss: 0.0448 - accuracy: 0.9899 - val_loss: 0.1061 - val_accuracy: 0.9532\n",
            "Epoch 489/1500\n",
            "4/4 [==============================] - 0s 20ms/step - loss: 0.0447 - accuracy: 0.9899 - val_loss: 0.1061 - val_accuracy: 0.9532\n",
            "Epoch 490/1500\n",
            "4/4 [==============================] - 0s 27ms/step - loss: 0.0447 - accuracy: 0.9899 - val_loss: 0.1063 - val_accuracy: 0.9532\n",
            "Epoch 491/1500\n",
            "4/4 [==============================] - 0s 24ms/step - loss: 0.0447 - accuracy: 0.9899 - val_loss: 0.1062 - val_accuracy: 0.9532\n",
            "Epoch 491: early stopping\n"
          ]
        },
        {
          "output_type": "execute_result",
          "data": {
            "text/plain": [
              "<keras.callbacks.History at 0x7fbcf452c760>"
            ]
          },
          "metadata": {},
          "execution_count": 14
        }
      ]
    },
    {
      "cell_type": "code",
      "source": [
        "data=pd.DataFrame(model.history.history)\n"
      ],
      "metadata": {
        "id": "u59Bjc6haDXO"
      },
      "execution_count": null,
      "outputs": []
    },
    {
      "cell_type": "code",
      "source": [
        "data\n"
      ],
      "metadata": {
        "colab": {
          "base_uri": "https://localhost:8080/",
          "height": 424
        },
        "id": "sJue1mhNboii",
        "outputId": "5c5b0ea5-fc77-465a-a877-d73fede7516b"
      },
      "execution_count": null,
      "outputs": [
        {
          "output_type": "execute_result",
          "data": {
            "text/plain": [
              "         loss  accuracy  val_loss  val_accuracy\n",
              "0    0.738510  0.417085  0.738549      0.426901\n",
              "1    0.721985  0.459799  0.725847      0.450292\n",
              "2    0.707334  0.512563  0.712857      0.479532\n",
              "3    0.692177  0.557789  0.701317      0.508772\n",
              "4    0.678432  0.585427  0.689984      0.555556\n",
              "..        ...       ...       ...           ...\n",
              "486  0.044818  0.989950  0.106097      0.953216\n",
              "487  0.044780  0.989950  0.106091      0.953216\n",
              "488  0.044738  0.989950  0.106060      0.953216\n",
              "489  0.044692  0.989950  0.106272      0.953216\n",
              "490  0.044667  0.989950  0.106205      0.953216\n",
              "\n",
              "[491 rows x 4 columns]"
            ],
            "text/html": [
              "\n",
              "  <div id=\"df-2caa206b-c30e-461e-ba4b-dc3ee120bc6c\">\n",
              "    <div class=\"colab-df-container\">\n",
              "      <div>\n",
              "<style scoped>\n",
              "    .dataframe tbody tr th:only-of-type {\n",
              "        vertical-align: middle;\n",
              "    }\n",
              "\n",
              "    .dataframe tbody tr th {\n",
              "        vertical-align: top;\n",
              "    }\n",
              "\n",
              "    .dataframe thead th {\n",
              "        text-align: right;\n",
              "    }\n",
              "</style>\n",
              "<table border=\"1\" class=\"dataframe\">\n",
              "  <thead>\n",
              "    <tr style=\"text-align: right;\">\n",
              "      <th></th>\n",
              "      <th>loss</th>\n",
              "      <th>accuracy</th>\n",
              "      <th>val_loss</th>\n",
              "      <th>val_accuracy</th>\n",
              "    </tr>\n",
              "  </thead>\n",
              "  <tbody>\n",
              "    <tr>\n",
              "      <th>0</th>\n",
              "      <td>0.738510</td>\n",
              "      <td>0.417085</td>\n",
              "      <td>0.738549</td>\n",
              "      <td>0.426901</td>\n",
              "    </tr>\n",
              "    <tr>\n",
              "      <th>1</th>\n",
              "      <td>0.721985</td>\n",
              "      <td>0.459799</td>\n",
              "      <td>0.725847</td>\n",
              "      <td>0.450292</td>\n",
              "    </tr>\n",
              "    <tr>\n",
              "      <th>2</th>\n",
              "      <td>0.707334</td>\n",
              "      <td>0.512563</td>\n",
              "      <td>0.712857</td>\n",
              "      <td>0.479532</td>\n",
              "    </tr>\n",
              "    <tr>\n",
              "      <th>3</th>\n",
              "      <td>0.692177</td>\n",
              "      <td>0.557789</td>\n",
              "      <td>0.701317</td>\n",
              "      <td>0.508772</td>\n",
              "    </tr>\n",
              "    <tr>\n",
              "      <th>4</th>\n",
              "      <td>0.678432</td>\n",
              "      <td>0.585427</td>\n",
              "      <td>0.689984</td>\n",
              "      <td>0.555556</td>\n",
              "    </tr>\n",
              "    <tr>\n",
              "      <th>...</th>\n",
              "      <td>...</td>\n",
              "      <td>...</td>\n",
              "      <td>...</td>\n",
              "      <td>...</td>\n",
              "    </tr>\n",
              "    <tr>\n",
              "      <th>486</th>\n",
              "      <td>0.044818</td>\n",
              "      <td>0.989950</td>\n",
              "      <td>0.106097</td>\n",
              "      <td>0.953216</td>\n",
              "    </tr>\n",
              "    <tr>\n",
              "      <th>487</th>\n",
              "      <td>0.044780</td>\n",
              "      <td>0.989950</td>\n",
              "      <td>0.106091</td>\n",
              "      <td>0.953216</td>\n",
              "    </tr>\n",
              "    <tr>\n",
              "      <th>488</th>\n",
              "      <td>0.044738</td>\n",
              "      <td>0.989950</td>\n",
              "      <td>0.106060</td>\n",
              "      <td>0.953216</td>\n",
              "    </tr>\n",
              "    <tr>\n",
              "      <th>489</th>\n",
              "      <td>0.044692</td>\n",
              "      <td>0.989950</td>\n",
              "      <td>0.106272</td>\n",
              "      <td>0.953216</td>\n",
              "    </tr>\n",
              "    <tr>\n",
              "      <th>490</th>\n",
              "      <td>0.044667</td>\n",
              "      <td>0.989950</td>\n",
              "      <td>0.106205</td>\n",
              "      <td>0.953216</td>\n",
              "    </tr>\n",
              "  </tbody>\n",
              "</table>\n",
              "<p>491 rows × 4 columns</p>\n",
              "</div>\n",
              "      <button class=\"colab-df-convert\" onclick=\"convertToInteractive('df-2caa206b-c30e-461e-ba4b-dc3ee120bc6c')\"\n",
              "              title=\"Convert this dataframe to an interactive table.\"\n",
              "              style=\"display:none;\">\n",
              "        \n",
              "  <svg xmlns=\"http://www.w3.org/2000/svg\" height=\"24px\"viewBox=\"0 0 24 24\"\n",
              "       width=\"24px\">\n",
              "    <path d=\"M0 0h24v24H0V0z\" fill=\"none\"/>\n",
              "    <path d=\"M18.56 5.44l.94 2.06.94-2.06 2.06-.94-2.06-.94-.94-2.06-.94 2.06-2.06.94zm-11 1L8.5 8.5l.94-2.06 2.06-.94-2.06-.94L8.5 2.5l-.94 2.06-2.06.94zm10 10l.94 2.06.94-2.06 2.06-.94-2.06-.94-.94-2.06-.94 2.06-2.06.94z\"/><path d=\"M17.41 7.96l-1.37-1.37c-.4-.4-.92-.59-1.43-.59-.52 0-1.04.2-1.43.59L10.3 9.45l-7.72 7.72c-.78.78-.78 2.05 0 2.83L4 21.41c.39.39.9.59 1.41.59.51 0 1.02-.2 1.41-.59l7.78-7.78 2.81-2.81c.8-.78.8-2.07 0-2.86zM5.41 20L4 18.59l7.72-7.72 1.47 1.35L5.41 20z\"/>\n",
              "  </svg>\n",
              "      </button>\n",
              "      \n",
              "  <style>\n",
              "    .colab-df-container {\n",
              "      display:flex;\n",
              "      flex-wrap:wrap;\n",
              "      gap: 12px;\n",
              "    }\n",
              "\n",
              "    .colab-df-convert {\n",
              "      background-color: #E8F0FE;\n",
              "      border: none;\n",
              "      border-radius: 50%;\n",
              "      cursor: pointer;\n",
              "      display: none;\n",
              "      fill: #1967D2;\n",
              "      height: 32px;\n",
              "      padding: 0 0 0 0;\n",
              "      width: 32px;\n",
              "    }\n",
              "\n",
              "    .colab-df-convert:hover {\n",
              "      background-color: #E2EBFA;\n",
              "      box-shadow: 0px 1px 2px rgba(60, 64, 67, 0.3), 0px 1px 3px 1px rgba(60, 64, 67, 0.15);\n",
              "      fill: #174EA6;\n",
              "    }\n",
              "\n",
              "    [theme=dark] .colab-df-convert {\n",
              "      background-color: #3B4455;\n",
              "      fill: #D2E3FC;\n",
              "    }\n",
              "\n",
              "    [theme=dark] .colab-df-convert:hover {\n",
              "      background-color: #434B5C;\n",
              "      box-shadow: 0px 1px 3px 1px rgba(0, 0, 0, 0.15);\n",
              "      filter: drop-shadow(0px 1px 2px rgba(0, 0, 0, 0.3));\n",
              "      fill: #FFFFFF;\n",
              "    }\n",
              "  </style>\n",
              "\n",
              "      <script>\n",
              "        const buttonEl =\n",
              "          document.querySelector('#df-2caa206b-c30e-461e-ba4b-dc3ee120bc6c button.colab-df-convert');\n",
              "        buttonEl.style.display =\n",
              "          google.colab.kernel.accessAllowed ? 'block' : 'none';\n",
              "\n",
              "        async function convertToInteractive(key) {\n",
              "          const element = document.querySelector('#df-2caa206b-c30e-461e-ba4b-dc3ee120bc6c');\n",
              "          const dataTable =\n",
              "            await google.colab.kernel.invokeFunction('convertToInteractive',\n",
              "                                                     [key], {});\n",
              "          if (!dataTable) return;\n",
              "\n",
              "          const docLinkHtml = 'Like what you see? Visit the ' +\n",
              "            '<a target=\"_blank\" href=https://colab.research.google.com/notebooks/data_table.ipynb>data table notebook</a>'\n",
              "            + ' to learn more about interactive tables.';\n",
              "          element.innerHTML = '';\n",
              "          dataTable['output_type'] = 'display_data';\n",
              "          await google.colab.output.renderOutput(dataTable, element);\n",
              "          const docLink = document.createElement('div');\n",
              "          docLink.innerHTML = docLinkHtml;\n",
              "          element.appendChild(docLink);\n",
              "        }\n",
              "      </script>\n",
              "    </div>\n",
              "  </div>\n",
              "  "
            ]
          },
          "metadata": {},
          "execution_count": 16
        }
      ]
    },
    {
      "cell_type": "code",
      "source": [
        "loss=pd.DataFrame(data)"
      ],
      "metadata": {
        "id": "2L4UWSE2agDW"
      },
      "execution_count": null,
      "outputs": []
    },
    {
      "cell_type": "code",
      "source": [
        "ypred=model.predict(xtest)\n",
        "ypred=ypred>0.5"
      ],
      "metadata": {
        "colab": {
          "base_uri": "https://localhost:8080/"
        },
        "id": "0bf8G4Fgapz2",
        "outputId": "50c29d2c-6f46-4207-8223-9abeb899fd73"
      },
      "execution_count": null,
      "outputs": [
        {
          "output_type": "stream",
          "name": "stdout",
          "text": [
            "6/6 [==============================] - 0s 2ms/step\n"
          ]
        }
      ]
    },
    {
      "cell_type": "code",
      "source": [
        "print(classification_report(ytest,ypred))"
      ],
      "metadata": {
        "colab": {
          "base_uri": "https://localhost:8080/"
        },
        "id": "tqwUgBzlbKrW",
        "outputId": "b14db476-3f7e-47ef-904d-46659bdedda1"
      },
      "execution_count": null,
      "outputs": [
        {
          "output_type": "stream",
          "name": "stdout",
          "text": [
            "              precision    recall  f1-score   support\n",
            "\n",
            "           0       0.95      0.92      0.94        63\n",
            "           1       0.95      0.97      0.96       108\n",
            "\n",
            "    accuracy                           0.95       171\n",
            "   macro avg       0.95      0.95      0.95       171\n",
            "weighted avg       0.95      0.95      0.95       171\n",
            "\n"
          ]
        }
      ]
    },
    {
      "cell_type": "code",
      "source": [
        "plt.plot(data)\n",
        "plt.show()"
      ],
      "metadata": {
        "colab": {
          "base_uri": "https://localhost:8080/",
          "height": 265
        },
        "id": "2L1ksDF3bUe2",
        "outputId": "e422e772-0844-4bce-a976-a48ec3fdd85c"
      },
      "execution_count": null,
      "outputs": [
        {
          "output_type": "display_data",
          "data": {
            "text/plain": [
              "<Figure size 432x288 with 1 Axes>"
            ],
            "image/png": "[encoded data removed]"
          },
          "metadata": {
            "needs_background": "light"
          }
        }
      ]
    },
    {
      "cell_type": "code",
      "source": [],
      "metadata": {
        "id": "z747QqZ-cnhW"
      },
      "execution_count": null,
      "outputs": []
    }
  ]
}